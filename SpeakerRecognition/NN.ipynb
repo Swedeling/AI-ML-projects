{
  "cells": [
    {
      "cell_type": "markdown",
      "metadata": {
        "id": "MbEm7N9yzhmK"
      },
      "source": [
        "### Necessary libraries"
      ]
    },
    {
      "cell_type": "code",
      "execution_count": 3,
      "metadata": {
        "id": "ZHNFqPLSzhmR"
      },
      "outputs": [],
      "source": [
        "from sklearn.model_selection import train_test_split\n",
        "from sklearn import linear_model\n",
        "from sklearn import metrics \n",
        "import sklearn as skplt\n",
        "from sklearn.preprocessing import StandardScaler\n",
        "from sklearn.preprocessing import LabelEncoder\n",
        "from sklearn.metrics import classification_report\n",
        "from sklearn.metrics import accuracy_score\n",
        "\n",
        "import tensorflow as tf\n",
        "from keras.utils.np_utils import to_categorical\n",
        "from keras.models import Sequential\n",
        "from keras.layers import Dense, Dropout, Activation, Flatten\n",
        "from tensorflow.keras.callbacks import EarlyStopping\n",
        "\n",
        "\n",
        "import numpy as np\n",
        "import pandas as pd\n",
        "import seaborn as sns\n",
        "import matplotlib.pyplot as plt"
      ]
    },
    {
      "cell_type": "markdown",
      "metadata": {
        "id": "P3XzVp0DzhmT"
      },
      "source": [
        "### Preparing for classification"
      ]
    },
    {
      "cell_type": "markdown",
      "metadata": {
        "id": "nWrEKLk6zhmT"
      },
      "source": [
        "Loading the previously saved matrix containing feature vectors"
      ]
    },
    {
      "cell_type": "code",
      "execution_count": 4,
      "metadata": {
        "colab": {
          "base_uri": "https://localhost:8080/"
        },
        "id": "AwqzkfC3zhmU",
        "outputId": "71ba4992-ea39-4d34-b7c1-455fd026dbbf"
      },
      "outputs": [
        {
          "name": "stdout",
          "output_type": "stream",
          "text": [
            "Mounted at /content/drive\n"
          ]
        }
      ],
      "source": [
        "from google.colab import drive\n",
        "drive.mount('/content/drive')"
      ]
    },
    {
      "cell_type": "code",
      "execution_count": 56,
      "metadata": {
        "id": "qp3DgQZv1JM5"
      },
      "outputs": [],
      "source": [
        "features = np.load('/content/drive/MyDrive/SpeakerRecognition/features.npy', allow_pickle=True)\n",
        "data = pd.read_csv('/content/drive/MyDrive/SpeakerRecognition/data.csv', sep=',') "
      ]
    },
    {
      "cell_type": "markdown",
      "metadata": {
        "id": "1UgcEUYnzhmU"
      },
      "source": [
        "Combine features into one vector for each recording"
      ]
    },
    {
      "cell_type": "code",
      "execution_count": 116,
      "metadata": {
        "id": "UFjDP5g_zhmV"
      },
      "outputs": [],
      "source": [
        "all_features = []\n",
        "\n",
        "for i in range(0, len(features)):\n",
        "    all_features.append(np.concatenate((features[i][0], features[i][1], features[i][2],  features[i][3], features[i][4], features[i][5]), axis=0))"
      ]
    },
    {
      "cell_type": "markdown",
      "metadata": {
        "id": "e6zQlumWzhmW"
      },
      "source": [
        "Setting the labels"
      ]
    },
    {
      "cell_type": "code",
      "execution_count": 117,
      "metadata": {
        "colab": {
          "base_uri": "https://localhost:8080/"
        },
        "id": "r0RSOsdTzhmW",
        "outputId": "72c4aa5d-69d4-4b00-ba43-31127dedafe1"
      },
      "outputs": [
        {
          "data": {
            "text/plain": [
              "(array([ 0,  1,  2,  3,  4,  5,  6,  7,  8,  9, 10, 11, 12, 13, 14, 15, 16,\n",
              "        17, 18, 19, 20, 21, 22, 23, 24, 25, 26, 27, 28, 29, 30, 31, 32, 33]),\n",
              " array([14, 14, 14, 14, 14, 14, 14, 14, 14, 14, 14, 14, 14, 14, 14, 14, 14,\n",
              "        14, 14, 14, 14, 14, 14, 14, 14, 14, 14, 14, 14, 14, 14, 14, 14, 14]))"
            ]
          },
          "execution_count": 117,
          "metadata": {},
          "output_type": "execute_result"
        }
      ],
      "source": [
        "labels = data['label']\n",
        "np.unique(labels, return_counts=True)"
      ]
    },
    {
      "cell_type": "code",
      "execution_count": 118,
      "metadata": {
        "id": "3IB648THzhmX"
      },
      "outputs": [],
      "source": [
        "X = np.array(all_features)\n",
        "y = np.array(labels)"
      ]
    },
    {
      "cell_type": "markdown",
      "metadata": {
        "id": "TOcxVq6czhmY"
      },
      "source": [
        "### Dataset division"
      ]
    },
    {
      "cell_type": "markdown",
      "metadata": {
        "id": "cR8rhClczhmZ"
      },
      "source": [
        "For the needs of the learning process with the use of the neural network, the set was divided into training (60%), test (20%) and validation (20%). "
      ]
    },
    {
      "cell_type": "code",
      "execution_count": 119,
      "metadata": {
        "id": "Zt6C9OTLzhmZ"
      },
      "outputs": [],
      "source": [
        "X_train, X_test, y_train, y_test  = train_test_split(X, y, test_size=0.2, random_state=23)\n",
        "X_train, X_val, y_train, y_val  = train_test_split(X_train, y_train, test_size=0.25, random_state=34) # 0.25 x 0.8 = 0.2"
      ]
    },
    {
      "cell_type": "markdown",
      "metadata": {
        "id": "4d-q61Odzhma"
      },
      "source": [
        "Hot encoding y"
      ]
    },
    {
      "cell_type": "code",
      "execution_count": 120,
      "metadata": {
        "id": "mMnrBBCWzhma"
      },
      "outputs": [],
      "source": [
        "lb = LabelEncoder()\n",
        "y_train = to_categorical(lb.fit_transform(y_train))\n",
        "y_test = to_categorical(lb.fit_transform(y_test))\n",
        "y_val = to_categorical(lb.fit_transform(y_val))"
      ]
    },
    {
      "cell_type": "code",
      "execution_count": 121,
      "metadata": {
        "colab": {
          "base_uri": "https://localhost:8080/"
        },
        "id": "yrqjYw5pzhma",
        "outputId": "9709ad13-4d96-41d6-d3f2-e48fbf7dd00b"
      },
      "outputs": [
        {
          "name": "stdout",
          "output_type": "stream",
          "text": [
            "(285, 196)\n",
            "(96, 196)\n"
          ]
        }
      ],
      "source": [
        "print(X_train.shape)\n",
        "print(X_test.shape)"
      ]
    },
    {
      "cell_type": "code",
      "execution_count": 85,
      "metadata": {
        "id": "2oWvYYuezhmb"
      },
      "outputs": [],
      "source": [
        "ss = StandardScaler()\n",
        "X_train = ss.fit_transform(X_train)\n",
        "X_val = ss.transform(X_val)\n",
        "X_test = ss.transform(X_test)"
      ]
    },
    {
      "cell_type": "markdown",
      "metadata": {
        "id": "g7hinsi5zhmb"
      },
      "source": [
        "### Network model"
      ]
    },
    {
      "cell_type": "code",
      "execution_count": null,
      "metadata": {
        "id": "5NRUDuEr9NrV"
      },
      "outputs": [],
      "source": [
        "model = Sequential()\n",
        "\n",
        "model.add(Dense(64, input_shape=(196,), activation = 'relu'))\n",
        "model.add(Dropout(0.5))\n",
        "\n",
        "model.add(Dense(128, activation = 'relu'))\n",
        "model.add(Dropout(0.2))  \n",
        "\n",
        "model.add(Dense(64, activation = 'relu'))\n",
        "model.add(Dropout(0.2))  \n",
        "\n",
        "model.add(Dense(34, activation = 'softmax'))\n",
        "\n",
        "model.compile(loss='categorical_crossentropy', metrics=['accuracy'], optimizer='adam')\n",
        "\n",
        "EarlyStop = EarlyStopping(monitor='val_loss', \n",
        "                          patience=30,\n",
        "                          verbose=1)"
      ]
    },
    {
      "cell_type": "code",
      "execution_count": null,
      "metadata": {
        "colab": {
          "base_uri": "https://localhost:8080/"
        },
        "id": "u56iBAyjUmtq",
        "outputId": "ad9d038e-118c-449d-e872-343334af6385"
      },
      "outputs": [
        {
          "name": "stdout",
          "output_type": "stream",
          "text": [
            "Model: \"sequential_19\"\n",
            "_________________________________________________________________\n",
            " Layer (type)                Output Shape              Param #   \n",
            "=================================================================\n",
            " dense_76 (Dense)            (None, 64)                12608     \n",
            "                                                                 \n",
            " dropout_57 (Dropout)        (None, 64)                0         \n",
            "                                                                 \n",
            " dense_77 (Dense)            (None, 128)               8320      \n",
            "                                                                 \n",
            " dropout_58 (Dropout)        (None, 128)               0         \n",
            "                                                                 \n",
            " dense_78 (Dense)            (None, 64)                8256      \n",
            "                                                                 \n",
            " dropout_59 (Dropout)        (None, 64)                0         \n",
            "                                                                 \n",
            " dense_79 (Dense)            (None, 34)                2210      \n",
            "                                                                 \n",
            "=================================================================\n",
            "Total params: 31,394\n",
            "Trainable params: 31,394\n",
            "Non-trainable params: 0\n",
            "_________________________________________________________________\n",
            "None\n"
          ]
        }
      ],
      "source": [
        "print(model.summary())"
      ]
    },
    {
      "cell_type": "markdown",
      "metadata": {
        "id": "wzz9TNcNzhmc"
      },
      "source": [
        "### Network learning process"
      ]
    },
    {
      "cell_type": "code",
      "execution_count": null,
      "metadata": {
        "colab": {
          "base_uri": "https://localhost:8080/"
        },
        "id": "l68Z81z59OMU",
        "outputId": "7ad9680f-ba9d-4a28-f595-e049696981c7"
      },
      "outputs": [
        {
          "name": "stdout",
          "output_type": "stream",
          "text": [
            "Epoch 1/200\n",
            "100/100 [==============================] - 2s 8ms/step - loss: 3.5984 - accuracy: 0.0333 - val_loss: 3.4083 - val_accuracy: 0.0667\n",
            "Epoch 2/200\n",
            "100/100 [==============================] - 1s 5ms/step - loss: 3.3545 - accuracy: 0.0933 - val_loss: 3.2061 - val_accuracy: 0.1500\n",
            "Epoch 3/200\n",
            "100/100 [==============================] - 1s 6ms/step - loss: 3.1325 - accuracy: 0.1433 - val_loss: 2.9846 - val_accuracy: 0.2667\n",
            "Epoch 4/200\n",
            "100/100 [==============================] - 1s 5ms/step - loss: 2.7952 - accuracy: 0.2567 - val_loss: 2.5779 - val_accuracy: 0.3333\n",
            "Epoch 5/200\n",
            "100/100 [==============================] - 1s 5ms/step - loss: 2.5507 - accuracy: 0.3100 - val_loss: 2.1157 - val_accuracy: 0.4833\n",
            "Epoch 6/200\n",
            "100/100 [==============================] - 1s 5ms/step - loss: 2.3233 - accuracy: 0.3733 - val_loss: 1.8462 - val_accuracy: 0.5500\n",
            "Epoch 7/200\n",
            "100/100 [==============================] - 0s 5ms/step - loss: 1.8917 - accuracy: 0.4433 - val_loss: 1.5780 - val_accuracy: 0.6333\n",
            "Epoch 8/200\n",
            "100/100 [==============================] - 0s 5ms/step - loss: 1.6242 - accuracy: 0.5500 - val_loss: 1.3557 - val_accuracy: 0.6500\n",
            "Epoch 9/200\n",
            "100/100 [==============================] - 1s 5ms/step - loss: 1.5721 - accuracy: 0.5300 - val_loss: 1.2386 - val_accuracy: 0.6667\n",
            "Epoch 10/200\n",
            "100/100 [==============================] - 0s 5ms/step - loss: 1.3843 - accuracy: 0.5767 - val_loss: 1.1030 - val_accuracy: 0.6500\n",
            "Epoch 11/200\n",
            "100/100 [==============================] - 0s 5ms/step - loss: 1.1168 - accuracy: 0.6567 - val_loss: 0.9221 - val_accuracy: 0.7167\n",
            "Epoch 12/200\n",
            "100/100 [==============================] - 0s 5ms/step - loss: 1.1412 - accuracy: 0.6600 - val_loss: 0.8433 - val_accuracy: 0.7667\n",
            "Epoch 13/200\n",
            "100/100 [==============================] - 1s 5ms/step - loss: 1.1568 - accuracy: 0.6567 - val_loss: 0.7943 - val_accuracy: 0.7667\n",
            "Epoch 14/200\n",
            "100/100 [==============================] - 0s 5ms/step - loss: 1.0377 - accuracy: 0.6667 - val_loss: 0.8151 - val_accuracy: 0.7833\n",
            "Epoch 15/200\n",
            "100/100 [==============================] - 1s 5ms/step - loss: 0.8770 - accuracy: 0.7500 - val_loss: 0.6950 - val_accuracy: 0.8333\n",
            "Epoch 16/200\n",
            "100/100 [==============================] - 0s 5ms/step - loss: 0.8817 - accuracy: 0.7333 - val_loss: 0.7391 - val_accuracy: 0.7833\n",
            "Epoch 17/200\n",
            "100/100 [==============================] - 0s 5ms/step - loss: 0.8919 - accuracy: 0.7467 - val_loss: 0.7157 - val_accuracy: 0.8333\n",
            "Epoch 18/200\n",
            "100/100 [==============================] - 0s 5ms/step - loss: 0.8636 - accuracy: 0.7500 - val_loss: 0.6661 - val_accuracy: 0.8333\n",
            "Epoch 19/200\n",
            "100/100 [==============================] - 1s 5ms/step - loss: 0.7691 - accuracy: 0.7567 - val_loss: 0.7020 - val_accuracy: 0.8333\n",
            "Epoch 20/200\n",
            "100/100 [==============================] - 0s 5ms/step - loss: 0.8870 - accuracy: 0.7533 - val_loss: 0.7086 - val_accuracy: 0.7833\n",
            "Epoch 21/200\n",
            "100/100 [==============================] - 1s 5ms/step - loss: 0.8245 - accuracy: 0.7667 - val_loss: 0.7248 - val_accuracy: 0.8000\n",
            "Epoch 22/200\n",
            "100/100 [==============================] - 1s 5ms/step - loss: 0.7660 - accuracy: 0.7633 - val_loss: 0.7320 - val_accuracy: 0.7833\n",
            "Epoch 23/200\n",
            "100/100 [==============================] - 1s 5ms/step - loss: 0.7120 - accuracy: 0.7800 - val_loss: 0.6790 - val_accuracy: 0.8000\n",
            "Epoch 24/200\n",
            "100/100 [==============================] - 1s 5ms/step - loss: 0.5900 - accuracy: 0.8133 - val_loss: 0.5982 - val_accuracy: 0.8167\n",
            "Epoch 25/200\n",
            "100/100 [==============================] - 1s 5ms/step - loss: 0.5190 - accuracy: 0.8433 - val_loss: 0.5682 - val_accuracy: 0.8500\n",
            "Epoch 26/200\n",
            "100/100 [==============================] - 1s 5ms/step - loss: 0.5979 - accuracy: 0.8067 - val_loss: 0.5321 - val_accuracy: 0.8333\n",
            "Epoch 27/200\n",
            "100/100 [==============================] - 1s 5ms/step - loss: 0.6029 - accuracy: 0.8133 - val_loss: 0.5624 - val_accuracy: 0.8667\n",
            "Epoch 28/200\n",
            "100/100 [==============================] - 1s 5ms/step - loss: 0.6775 - accuracy: 0.7900 - val_loss: 0.5137 - val_accuracy: 0.8500\n",
            "Epoch 29/200\n",
            "100/100 [==============================] - 0s 5ms/step - loss: 0.6221 - accuracy: 0.8267 - val_loss: 0.4801 - val_accuracy: 0.8833\n",
            "Epoch 30/200\n",
            "100/100 [==============================] - 1s 5ms/step - loss: 0.5869 - accuracy: 0.8433 - val_loss: 0.5514 - val_accuracy: 0.8667\n",
            "Epoch 31/200\n",
            "100/100 [==============================] - 1s 5ms/step - loss: 0.5381 - accuracy: 0.8400 - val_loss: 0.5854 - val_accuracy: 0.8667\n",
            "Epoch 32/200\n",
            "100/100 [==============================] - 0s 5ms/step - loss: 0.5061 - accuracy: 0.8567 - val_loss: 0.4720 - val_accuracy: 0.8500\n",
            "Epoch 33/200\n",
            "100/100 [==============================] - 0s 5ms/step - loss: 0.5790 - accuracy: 0.8267 - val_loss: 0.4237 - val_accuracy: 0.9000\n",
            "Epoch 34/200\n",
            "100/100 [==============================] - 1s 6ms/step - loss: 0.4120 - accuracy: 0.8800 - val_loss: 0.3956 - val_accuracy: 0.8833\n",
            "Epoch 35/200\n",
            "100/100 [==============================] - 0s 5ms/step - loss: 0.4734 - accuracy: 0.8500 - val_loss: 0.3742 - val_accuracy: 0.8667\n",
            "Epoch 36/200\n",
            "100/100 [==============================] - 0s 5ms/step - loss: 0.3943 - accuracy: 0.8967 - val_loss: 0.4609 - val_accuracy: 0.8667\n",
            "Epoch 37/200\n",
            "100/100 [==============================] - 0s 5ms/step - loss: 0.4430 - accuracy: 0.8633 - val_loss: 0.4042 - val_accuracy: 0.8667\n",
            "Epoch 38/200\n",
            "100/100 [==============================] - 1s 6ms/step - loss: 0.4536 - accuracy: 0.8800 - val_loss: 0.4310 - val_accuracy: 0.9000\n",
            "Epoch 39/200\n",
            "100/100 [==============================] - 0s 5ms/step - loss: 0.3914 - accuracy: 0.8600 - val_loss: 0.4965 - val_accuracy: 0.8667\n",
            "Epoch 40/200\n",
            "100/100 [==============================] - 0s 5ms/step - loss: 0.4241 - accuracy: 0.8400 - val_loss: 0.4678 - val_accuracy: 0.8500\n",
            "Epoch 41/200\n",
            "100/100 [==============================] - 0s 5ms/step - loss: 0.3787 - accuracy: 0.8967 - val_loss: 0.5847 - val_accuracy: 0.8333\n",
            "Epoch 42/200\n",
            "100/100 [==============================] - 0s 5ms/step - loss: 0.3267 - accuracy: 0.9000 - val_loss: 0.4625 - val_accuracy: 0.8500\n",
            "Epoch 43/200\n",
            "100/100 [==============================] - 0s 5ms/step - loss: 0.3959 - accuracy: 0.8733 - val_loss: 0.3789 - val_accuracy: 0.8833\n",
            "Epoch 44/200\n",
            "100/100 [==============================] - 0s 5ms/step - loss: 0.5621 - accuracy: 0.8667 - val_loss: 0.3883 - val_accuracy: 0.9000\n",
            "Epoch 45/200\n",
            "100/100 [==============================] - 0s 5ms/step - loss: 0.4490 - accuracy: 0.8533 - val_loss: 0.4736 - val_accuracy: 0.9000\n",
            "Epoch 46/200\n",
            "100/100 [==============================] - 0s 5ms/step - loss: 0.4508 - accuracy: 0.8600 - val_loss: 0.4863 - val_accuracy: 0.8667\n",
            "Epoch 47/200\n",
            "100/100 [==============================] - 0s 5ms/step - loss: 0.2926 - accuracy: 0.9067 - val_loss: 0.5041 - val_accuracy: 0.9000\n",
            "Epoch 48/200\n",
            "100/100 [==============================] - 0s 5ms/step - loss: 0.3929 - accuracy: 0.8467 - val_loss: 0.5046 - val_accuracy: 0.8500\n",
            "Epoch 49/200\n",
            "100/100 [==============================] - 1s 5ms/step - loss: 0.3775 - accuracy: 0.8900 - val_loss: 0.4986 - val_accuracy: 0.9000\n",
            "Epoch 50/200\n",
            "100/100 [==============================] - 0s 5ms/step - loss: 0.3183 - accuracy: 0.9000 - val_loss: 0.4265 - val_accuracy: 0.9000\n",
            "Epoch 51/200\n",
            "100/100 [==============================] - 0s 5ms/step - loss: 0.2958 - accuracy: 0.9133 - val_loss: 0.4226 - val_accuracy: 0.8833\n",
            "Epoch 52/200\n",
            "100/100 [==============================] - 1s 5ms/step - loss: 0.4446 - accuracy: 0.8633 - val_loss: 0.3715 - val_accuracy: 0.9167\n",
            "Epoch 53/200\n",
            "100/100 [==============================] - 1s 5ms/step - loss: 0.3102 - accuracy: 0.9000 - val_loss: 0.4515 - val_accuracy: 0.9000\n",
            "Epoch 54/200\n",
            "100/100 [==============================] - 0s 5ms/step - loss: 0.3348 - accuracy: 0.9000 - val_loss: 0.4732 - val_accuracy: 0.8833\n",
            "Epoch 55/200\n",
            "100/100 [==============================] - 1s 5ms/step - loss: 0.4578 - accuracy: 0.8800 - val_loss: 0.4681 - val_accuracy: 0.8500\n",
            "Epoch 56/200\n",
            "100/100 [==============================] - 1s 5ms/step - loss: 0.3837 - accuracy: 0.8667 - val_loss: 0.4174 - val_accuracy: 0.8833\n",
            "Epoch 57/200\n",
            "100/100 [==============================] - 0s 5ms/step - loss: 0.3629 - accuracy: 0.9000 - val_loss: 0.4207 - val_accuracy: 0.8833\n",
            "Epoch 58/200\n",
            "100/100 [==============================] - 1s 5ms/step - loss: 0.2699 - accuracy: 0.9233 - val_loss: 0.4251 - val_accuracy: 0.8833\n",
            "Epoch 59/200\n",
            "100/100 [==============================] - 1s 5ms/step - loss: 0.3739 - accuracy: 0.8900 - val_loss: 0.4397 - val_accuracy: 0.8833\n",
            "Epoch 60/200\n",
            "100/100 [==============================] - 0s 5ms/step - loss: 0.2931 - accuracy: 0.9133 - val_loss: 0.4770 - val_accuracy: 0.8667\n",
            "Epoch 61/200\n",
            "100/100 [==============================] - 1s 6ms/step - loss: 0.7040 - accuracy: 0.8867 - val_loss: 0.5224 - val_accuracy: 0.8833\n",
            "Epoch 62/200\n",
            "100/100 [==============================] - 1s 5ms/step - loss: 0.2717 - accuracy: 0.9100 - val_loss: 0.4912 - val_accuracy: 0.9167\n",
            "Epoch 63/200\n",
            "100/100 [==============================] - 1s 5ms/step - loss: 0.3498 - accuracy: 0.8833 - val_loss: 0.5194 - val_accuracy: 0.8833\n",
            "Epoch 64/200\n",
            "100/100 [==============================] - 1s 5ms/step - loss: 0.3539 - accuracy: 0.8967 - val_loss: 0.4497 - val_accuracy: 0.8833\n",
            "Epoch 65/200\n",
            "100/100 [==============================] - 0s 5ms/step - loss: 0.3472 - accuracy: 0.9100 - val_loss: 0.4499 - val_accuracy: 0.8833\n",
            "Epoch 66/200\n",
            "100/100 [==============================] - 0s 5ms/step - loss: 0.3048 - accuracy: 0.9200 - val_loss: 0.4720 - val_accuracy: 0.9000\n",
            "Epoch 67/200\n",
            "100/100 [==============================] - 1s 5ms/step - loss: 0.2983 - accuracy: 0.9100 - val_loss: 0.4385 - val_accuracy: 0.9000\n",
            "Epoch 68/200\n",
            "100/100 [==============================] - 0s 5ms/step - loss: 0.4097 - accuracy: 0.9000 - val_loss: 0.4767 - val_accuracy: 0.9167\n",
            "Epoch 69/200\n",
            "100/100 [==============================] - 1s 5ms/step - loss: 0.2742 - accuracy: 0.9100 - val_loss: 0.5347 - val_accuracy: 0.8500\n",
            "Epoch 70/200\n",
            "100/100 [==============================] - 1s 5ms/step - loss: 0.3561 - accuracy: 0.8867 - val_loss: 0.5483 - val_accuracy: 0.8667\n",
            "Epoch 71/200\n",
            "100/100 [==============================] - 1s 6ms/step - loss: 0.2429 - accuracy: 0.9200 - val_loss: 0.5237 - val_accuracy: 0.8833\n",
            "Epoch 72/200\n",
            "100/100 [==============================] - 0s 5ms/step - loss: 0.2969 - accuracy: 0.9367 - val_loss: 0.4940 - val_accuracy: 0.9000\n",
            "Epoch 73/200\n",
            "100/100 [==============================] - 1s 5ms/step - loss: 0.3287 - accuracy: 0.9200 - val_loss: 0.5031 - val_accuracy: 0.9000\n",
            "Epoch 74/200\n",
            "100/100 [==============================] - 0s 5ms/step - loss: 0.1783 - accuracy: 0.9367 - val_loss: 0.5035 - val_accuracy: 0.8833\n",
            "Epoch 75/200\n",
            "100/100 [==============================] - 1s 5ms/step - loss: 0.2796 - accuracy: 0.8967 - val_loss: 0.5246 - val_accuracy: 0.8500\n",
            "Epoch 76/200\n",
            "100/100 [==============================] - 0s 5ms/step - loss: 0.2503 - accuracy: 0.9267 - val_loss: 0.6160 - val_accuracy: 0.8667\n",
            "Epoch 77/200\n",
            "100/100 [==============================] - 1s 5ms/step - loss: 0.3874 - accuracy: 0.8967 - val_loss: 0.5083 - val_accuracy: 0.8667\n",
            "Epoch 78/200\n",
            "100/100 [==============================] - 0s 5ms/step - loss: 0.2426 - accuracy: 0.9233 - val_loss: 0.5095 - val_accuracy: 0.8667\n",
            "Epoch 79/200\n",
            "100/100 [==============================] - 1s 5ms/step - loss: 0.3413 - accuracy: 0.8933 - val_loss: 0.5171 - val_accuracy: 0.8500\n",
            "Epoch 80/200\n",
            "100/100 [==============================] - 0s 5ms/step - loss: 0.4378 - accuracy: 0.9000 - val_loss: 0.4605 - val_accuracy: 0.8833\n",
            "Epoch 81/200\n",
            "100/100 [==============================] - 0s 5ms/step - loss: 0.2346 - accuracy: 0.9133 - val_loss: 0.4563 - val_accuracy: 0.8667\n",
            "Epoch 82/200\n",
            "100/100 [==============================] - 0s 5ms/step - loss: 0.4209 - accuracy: 0.9200 - val_loss: 0.5766 - val_accuracy: 0.8500\n",
            "Epoch 00082: early stopping\n"
          ]
        }
      ],
      "source": [
        "history = model.fit(X_train, \n",
        "                    y_train, \n",
        "                    epochs=200, \n",
        "                    batch_size = 3,\n",
        "                    validation_data=(X_val, y_val),  \n",
        "                    steps_per_epoch = 100, \n",
        "                    callbacks = [EarlyStop], \n",
        "                    validation_steps = 20)"
      ]
    },
    {
      "cell_type": "code",
      "execution_count": null,
      "metadata": {
        "colab": {
          "base_uri": "https://localhost:8080/",
          "height": 530
        },
        "id": "Qt7fITLg9Uz1",
        "outputId": "59be943f-14dc-4e47-f2fc-2504da16aa02"
      },
      "outputs": [
        {
          "data": {
            "image/png": "[encoded data removed]",
            "text/plain": [
              "<Figure size 864x576 with 1 Axes>"
            ]
          },
          "metadata": {
            "needs_background": "light"
          },
          "output_type": "display_data"
        }
      ],
      "source": [
        "# Check out our train accuracy and validation accuracy over epochs.\n",
        "train_accuracy = history.history['accuracy']\n",
        "val_accuracy = history.history['val_accuracy']\n",
        "\n",
        "# Set figure size.\n",
        "plt.figure(figsize=(12, 8))\n",
        "\n",
        "# Generate line plot of training, testing accuracy over epochs.\n",
        "plt.plot(train_accuracy, label='Training Accuracy', color='#185fad')\n",
        "plt.plot(val_accuracy, label='Validation Accuracy', color='orange')\n",
        "\n",
        "# Set title\n",
        "plt.title('Training and Validation Accuracy by Epoch', fontsize = 25)\n",
        "plt.xlabel('Epoch', fontsize = 18)\n",
        "plt.ylabel('Accuracy', fontsize = 18)\n",
        "plt.xticks(range(0,200,10), range(0,200,10))\n",
        "\n",
        "plt.legend(fontsize = 18)"
      ]
    },
    {
      "cell_type": "code",
      "execution_count": null,
      "metadata": {
        "colab": {
          "base_uri": "https://localhost:8080/",
          "height": 530
        },
        "id": "0wYvA8yuBkw0",
        "outputId": "87c06647-eac9-4ab1-83b0-d5326e898019"
      },
      "outputs": [
        {
          "data": {
            "image/png": "[encoded data removed]",
            "text/plain": [
              "<Figure size 864x576 with 1 Axes>"
            ]
          },
          "metadata": {
            "needs_background": "light"
          },
          "output_type": "display_data"
        }
      ],
      "source": [
        "# Check out our train accuracy and validation accuracy over epochs.\n",
        "train_accuracy = history.history['loss']\n",
        "val_accuracy = history.history['val_loss']\n",
        "\n",
        "# Set figure size.\n",
        "plt.figure(figsize=(12, 8))\n",
        "\n",
        "# Generate line plot of training, testing loss over epochs.\n",
        "plt.plot(train_accuracy, label='Training Loss', color='#185fad')\n",
        "plt.plot(val_accuracy, label='Validation Loss', color='orange')\n",
        "\n",
        "# Set title\n",
        "plt.title('Training and Validation Loss by Epoch', fontsize = 25)\n",
        "plt.xlabel('Epoch', fontsize = 18)\n",
        "plt.ylabel('Loss', fontsize = 18)\n",
        "plt.xticks(range(0,200,10), range(0,200,10))\n",
        "\n",
        "plt.legend(fontsize = 18)"
      ]
    },
    {
      "cell_type": "code",
      "execution_count": null,
      "metadata": {
        "id": "L_Eil9H1Af9z"
      },
      "outputs": [],
      "source": [
        "# Predictions from the test data\n",
        "y_test_pred = model.predict(X_test)\n",
        "y_test_pred = np.argmax(y_test_pred,axis=-1)"
      ]
    },
    {
      "cell_type": "code",
      "execution_count": null,
      "metadata": {
        "colab": {
          "base_uri": "https://localhost:8080/"
        },
        "id": "GXWj25dYS3Oe",
        "outputId": "3dd3f5c0-43c5-4ab2-c00b-afd6a656cc59"
      },
      "outputs": [
        {
          "data": {
            "text/plain": [
              "array([[0., 0., 0., ..., 0., 0., 0.],\n",
              "       [0., 0., 0., ..., 0., 0., 0.],\n",
              "       [0., 0., 0., ..., 0., 0., 0.],\n",
              "       ...,\n",
              "       [0., 0., 0., ..., 0., 0., 0.],\n",
              "       [0., 0., 0., ..., 0., 0., 0.],\n",
              "       [0., 0., 0., ..., 0., 0., 0.]], dtype=float32)"
            ]
          },
          "execution_count": 529,
          "metadata": {},
          "output_type": "execute_result"
        }
      ],
      "source": [
        "y_test"
      ]
    },
    {
      "cell_type": "code",
      "execution_count": null,
      "metadata": {
        "id": "DlO-BbUB-Csb"
      },
      "outputs": [],
      "source": [
        "y_test = np.argmax(y_test,axis=-1)"
      ]
    },
    {
      "cell_type": "code",
      "execution_count": null,
      "metadata": {
        "colab": {
          "base_uri": "https://localhost:8080/"
        },
        "id": "_s4Eg7u_CRkg",
        "outputId": "aec5bf71-423c-4c31-e6e2-05dd4b1c70fd"
      },
      "outputs": [
        {
          "name": "stdout",
          "output_type": "stream",
          "text": [
            "[23 23 22  2 20  3 25  4 31 33 28 27 26 24  9 24 31  6 18 23  8 27 33 22\n",
            " 23 15  3  4 32 14  2 17  4 18  7 19 22 21  0  1 17 12 13 29 26 33 16 25\n",
            "  8 20 28  5  5  2 26  5 14 31 21 31 23  4 16  4 14 29 10 33 14  9  0 33\n",
            " 32  0 31  1  1  3 25  6 28 14 19 23 16 29  3 20 21 27 30  2 15  0 22 10]\n",
            "[25 23 22 17 20 32 25  4 31 33 28 27 26 24  9 24 31  6 18 23  8 27 33 22\n",
            " 23 15 21  4 32 14  2 17  4 18  7 19 22 21  0  1 17 12 13 29 26 33 16 25\n",
            "  8 20 28  5  5  2 26  5 14 31 21 31 25  4 16  4 14 29 10 33 14  9  0 33\n",
            " 32  0 31  1  1  3 25  6 28 14 19 23 16 29  3 20 21 27 30  2 15 11 22 10]\n"
          ]
        }
      ],
      "source": [
        "print(y_test_pred)\n",
        "print(y_test)"
      ]
    },
    {
      "cell_type": "markdown",
      "metadata": {
        "id": "P7mNlpTyzhmd"
      },
      "source": [
        "### Results"
      ]
    },
    {
      "cell_type": "code",
      "execution_count": null,
      "metadata": {
        "id": "dt_77EtjAtnT"
      },
      "outputs": [],
      "source": [
        "false = 0\n",
        "for i in range(0,len(y_test)):\n",
        "  if y_test[i] != y_test_pred[i]:\n",
        "    false+=1\n",
        "\n",
        "print(false)"
      ]
    },
    {
      "cell_type": "code",
      "execution_count": null,
      "metadata": {
        "colab": {
          "base_uri": "https://localhost:8080/"
        },
        "id": "WZ5CB7cTB_o7",
        "outputId": "281c6423-90b2-41ad-ac6d-9e00f897b1e9"
      },
      "outputs": [
        {
          "name": "stdout",
          "output_type": "stream",
          "text": [
            "0.9375\n"
          ]
        }
      ],
      "source": [
        "# Checking model accuracy\n",
        "acc = 1 - (false / len(y_test_pred))\n",
        "print(acc)"
      ]
    },
    {
      "cell_type": "code",
      "execution_count": null,
      "metadata": {
        "colab": {
          "base_uri": "https://localhost:8080/"
        },
        "id": "CNw7gRNdTJXe",
        "outputId": "d839192e-4c8d-4715-cfdf-31703c346ccd"
      },
      "outputs": [
        {
          "name": "stdout",
          "output_type": "stream",
          "text": [
            "[[3 0 0 ... 0 0 0]\n",
            " [0 3 0 ... 0 0 0]\n",
            " [0 0 3 ... 0 0 0]\n",
            " ...\n",
            " [0 0 0 ... 5 0 0]\n",
            " [0 0 0 ... 0 2 0]\n",
            " [0 0 0 ... 0 0 5]]\n"
          ]
        }
      ],
      "source": [
        "from sklearn.metrics import confusion_matrix\n",
        "cm = confusion_matrix(y_test, y_test_pred)\n",
        "print(cm)"
      ]
    },
    {
      "cell_type": "code",
      "execution_count": null,
      "metadata": {
        "colab": {
          "base_uri": "https://localhost:8080/",
          "height": 628
        },
        "id": "zUBim_WUTLiV",
        "outputId": "80175c77-9b05-4b89-9898-06e29fce1c8a"
      },
      "outputs": [
        {
          "data": {
            "text/plain": [
              "Text(0.5, 69.0, 'Predicted label')"
            ]
          },
          "execution_count": 536,
          "metadata": {},
          "output_type": "execute_result"
        },
        {
          "data": {
            "image/png": "[encoded data removed]",
            "text/plain": [
              "<Figure size 864x720 with 2 Axes>"
            ]
          },
          "metadata": {
            "needs_background": "light"
          },
          "output_type": "display_data"
        }
      ],
      "source": [
        "df_cm = pd.DataFrame(cm)\n",
        "plt.figure(figsize=(12,10))\n",
        "sns.heatmap(df_cm, annot=True, cmap = 'Blues')\n",
        "plt.ylabel('True label')\n",
        "plt.xlabel('Predicted label')"
      ]
    },
    {
      "cell_type": "code",
      "execution_count": null,
      "metadata": {
        "colab": {
          "base_uri": "https://localhost:8080/"
        },
        "id": "wa-FFAiumFiC",
        "outputId": "007780b9-5af6-4281-9174-a64989088948"
      },
      "outputs": [
        {
          "name": "stdout",
          "output_type": "stream",
          "text": [
            "              precision    recall  f1-score   support\n",
            "\n",
            "           0       0.75      1.00      0.86         3\n",
            "           1       1.00      1.00      1.00         3\n",
            "           2       0.75      1.00      0.86         3\n",
            "           3       0.50      1.00      0.67         2\n",
            "           4       1.00      1.00      1.00         5\n",
            "           5       1.00      1.00      1.00         3\n",
            "           6       1.00      1.00      1.00         2\n",
            "           7       1.00      1.00      1.00         1\n",
            "           8       1.00      1.00      1.00         2\n",
            "           9       1.00      1.00      1.00         2\n",
            "          10       1.00      1.00      1.00         2\n",
            "          11       0.00      0.00      0.00         1\n",
            "          12       1.00      1.00      1.00         1\n",
            "          13       1.00      1.00      1.00         1\n",
            "          14       1.00      1.00      1.00         5\n",
            "          15       1.00      1.00      1.00         2\n",
            "          16       1.00      1.00      1.00         3\n",
            "          17       1.00      0.67      0.80         3\n",
            "          18       1.00      1.00      1.00         2\n",
            "          19       1.00      1.00      1.00         2\n",
            "          20       1.00      1.00      1.00         3\n",
            "          21       1.00      0.75      0.86         4\n",
            "          22       1.00      1.00      1.00         4\n",
            "          23       0.67      1.00      0.80         4\n",
            "          24       1.00      1.00      1.00         2\n",
            "          25       1.00      0.60      0.75         5\n",
            "          26       1.00      1.00      1.00         3\n",
            "          27       1.00      1.00      1.00         3\n",
            "          28       1.00      1.00      1.00         3\n",
            "          29       1.00      1.00      1.00         3\n",
            "          30       1.00      1.00      1.00         1\n",
            "          31       1.00      1.00      1.00         5\n",
            "          32       1.00      0.67      0.80         3\n",
            "          33       1.00      1.00      1.00         5\n",
            "\n",
            "    accuracy                           0.94        96\n",
            "   macro avg       0.93      0.93      0.92        96\n",
            "weighted avg       0.95      0.94      0.93        96\n",
            "\n"
          ]
        }
      ],
      "source": [
        "print(classification_report(y_test, y_test_pred)) "
      ]
    }
  ],
  "metadata": {
    "colab": {
      "name": "NN.ipynb",
      "provenance": []
    },
    "kernelspec": {
      "display_name": "Python 3",
      "name": "python3"
    },
    "language_info": {
      "name": "python"
    },
    "orig_nbformat": 4
  },
  "nbformat": 4,
  "nbformat_minor": 0
}
