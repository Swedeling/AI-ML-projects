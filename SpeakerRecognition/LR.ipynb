{
 "cells": [
  {
   "cell_type": "markdown",
   "metadata": {
    "id": "_KMedBZakHG6",
    "pycharm": {
     "name": "#%% md\n"
    }
   },
   "source": [
    "### Necessary libraries"
   ]
  },
  {
   "cell_type": "code",
   "execution_count": 2,
   "metadata": {
    "id": "7Tn6svvVkHHB",
    "pycharm": {
     "name": "#%%\n"
    }
   },
   "outputs": [],
   "source": [
    "import matplotlib.pyplot as plt\n",
    "import numpy as np\n",
    "import seaborn as sns\n",
    "from sklearn.model_selection import train_test_split\n",
    "from sklearn.metrics import accuracy_score, classification_report, confusion_matrix,\n",
    "from sklearn.linear_model import LogisticRegression\n",
    "import pandas as pd"
   ]
  },
  {
   "cell_type": "markdown",
   "metadata": {
    "id": "iOrMMpl8kHHE",
    "pycharm": {
     "name": "#%% md\n"
    }
   },
   "source": [
    "### Preparing for classification"
   ]
  },
  {
   "cell_type": "markdown",
   "metadata": {
    "id": "B_ears1qkHHE",
    "pycharm": {
     "name": "#%% md\n"
    }
   },
   "source": [
    "Loading the previously saved matrix containing feature vectors and data file"
   ]
  },
  {
   "cell_type": "code",
   "execution_count": 3,
   "metadata": {
    "colab": {
     "base_uri": "https://localhost:8080/"
    },
    "id": "F_Pd5OXYkRAB",
    "outputId": "69998e64-dd94-40cb-f50c-ac7d53435b86",
    "pycharm": {
     "name": "#%%\n"
    }
   },
   "outputs": [
    {
     "name": "stdout",
     "output_type": "stream",
     "text": [
      "Mounted at /content/drive\n"
     ]
    }
   ],
   "source": [
    "from google.colab import drive\n",
    "drive.mount('/content/drive')"
   ]
  },
  {
   "cell_type": "code",
   "execution_count": 120,
   "metadata": {
    "id": "pyT83hFUkHHF",
    "pycharm": {
     "name": "#%%\n"
    }
   },
   "outputs": [],
   "source": [
    "features = np.load('/content/drive/MyDrive/SpeakerRecognition/features.npy', allow_pickle=True)\n",
    "data = pd.read_csv('/content/drive/MyDrive/SpeakerRecognition/data.csv', sep=',') "
   ]
  },
  {
   "cell_type": "markdown",
   "metadata": {
    "id": "sUmgstSLkHHG",
    "pycharm": {
     "name": "#%% md\n"
    }
   },
   "source": [
    "Combine features into one vector for each recording"
   ]
  },
  {
   "cell_type": "code",
   "execution_count": 122,
   "metadata": {
    "id": "VG2p9L9WkHHH",
    "pycharm": {
     "name": "#%%\n"
    }
   },
   "outputs": [],
   "source": [
    "all_features = []\n",
    "\n",
    "for i in range(0, len(features)):\n",
    "    all_features.append(np.concatenate((features[i][0], features[i][1], features[i][2],  features[i][3], features[i][4], features[i][5]), axis=0))"
   ]
  },
  {
   "cell_type": "markdown",
   "metadata": {
    "id": "6cdtyeYZkHHI",
    "pycharm": {
     "name": "#%% md\n"
    }
   },
   "source": [
    "Setting the labels"
   ]
  },
  {
   "cell_type": "code",
   "execution_count": 123,
   "metadata": {
    "colab": {
     "base_uri": "https://localhost:8080/"
    },
    "id": "xNAeWQTBkHHI",
    "outputId": "36ad9d71-a8e7-428e-c8cd-a2e1315a192f",
    "pycharm": {
     "name": "#%%\n"
    }
   },
   "outputs": [
    {
     "data": {
      "text/plain": [
       "(array([ 0,  1,  2,  3,  4,  5,  6,  7,  8,  9, 10, 11, 12, 13, 14, 15, 16,\n",
       "        17, 18, 19, 20, 21, 22, 23, 24, 25, 26, 27, 28, 29, 30, 31, 32, 33]),\n",
       " array([14, 14, 14, 14, 14, 14, 14, 14, 14, 14, 14, 14, 14, 14, 14, 14, 14,\n",
       "        14, 14, 14, 14, 14, 14, 14, 14, 14, 14, 14, 14, 14, 14, 14, 14, 14]))"
      ]
     },
     "execution_count": 123,
     "metadata": {},
     "output_type": "execute_result"
    }
   ],
   "source": [
    "labels = data['label']\n",
    "np.unique(labels, return_counts=True)"
   ]
  },
  {
   "cell_type": "code",
   "execution_count": 124,
   "metadata": {
    "id": "854H_G4GkHHJ",
    "pycharm": {
     "name": "#%%\n"
    }
   },
   "outputs": [],
   "source": [
    "X = np.array(all_features)\n",
    "y = np.array(labels)"
   ]
  },
  {
   "cell_type": "markdown",
   "metadata": {
    "id": "DvEL6r8MkHHK",
    "pycharm": {
     "name": "#%% md\n"
    }
   },
   "source": [
    "### Dataset division"
   ]
  },
  {
   "cell_type": "markdown",
   "metadata": {
    "id": "40Qecst5kHHL",
    "pycharm": {
     "name": "#%% md\n"
    }
   },
   "source": [
    "For the needs of the learning process with the use of the logistic regression, the set was divided into training (80%) and test (20%). "
   ]
  },
  {
   "cell_type": "code",
   "execution_count": 125,
   "metadata": {
    "id": "rhOHO0B_kHHL",
    "pycharm": {
     "name": "#%%\n"
    }
   },
   "outputs": [],
   "source": [
    "X_train, X_test, y_train, y_test  = train_test_split(X, y, test_size=0.2, random_state=70)"
   ]
  },
  {
   "cell_type": "markdown",
   "metadata": {
    "id": "ickx_cfdkHHO",
    "pycharm": {
     "name": "#%% md\n"
    }
   },
   "source": [
    "## Classification using Logistic Regression"
   ]
  },
  {
   "cell_type": "code",
   "execution_count": null,
   "metadata": {
    "colab": {
     "base_uri": "https://localhost:8080/"
    },
    "id": "RWMULIWNkHHO",
    "outputId": "c3c85ad8-be72-48c4-f03e-9d24c3ef8214",
    "pycharm": {
     "name": "#%%\n"
    }
   },
   "outputs": [],
   "source": [
    "lr = LogisticRegression(tol=0.001, max_iter=10000)\n",
    "lr.fit(X_train, y_train)\n",
    "y_test_pred = lr.predict(X_test)"
   ]
  },
  {
   "cell_type": "markdown",
   "metadata": {
    "id": "COpr8Yu3kHHO",
    "pycharm": {
     "name": "#%% md\n"
    }
   },
   "source": [
    "### Results"
   ]
  },
  {
   "cell_type": "code",
   "execution_count": 10,
   "metadata": {
    "colab": {
     "base_uri": "https://localhost:8080/"
    },
    "id": "qMn2rSqykHHP",
    "outputId": "4b285460-d358-4dca-f586-e8822c19f4fd",
    "pycharm": {
     "name": "#%%\n"
    }
   },
   "outputs": [
    {
     "name": "stdout",
     "output_type": "stream",
     "text": [
      "[[3 0 0 ... 0 0 0]\n",
      " [0 3 0 ... 0 0 0]\n",
      " [0 0 3 ... 0 0 0]\n",
      " ...\n",
      " [0 0 0 ... 5 0 0]\n",
      " [0 0 0 ... 0 3 0]\n",
      " [0 0 0 ... 0 0 5]]\n"
     ]
    }
   ],
   "source": [
    "cm = confusion_matrix(y_test, y_test_pred)\n",
    "print(cm)"
   ]
  },
  {
   "cell_type": "code",
   "execution_count": null,
   "metadata": {
    "colab": {
     "base_uri": "https://localhost:8080/",
     "height": 628
    },
    "id": "e3gsRr3Z4eyO",
    "outputId": "40342573-97d1-44dc-ceca-dd0e5db99f8d",
    "pycharm": {
     "name": "#%%\n"
    }
   },
   "outputs": [
    {
     "data": {
      "text/plain": [
       "Text(0.5, 69.0, 'Predicted label')"
      ]
     },
     "execution_count": 165,
     "metadata": {},
     "output_type": "execute_result"
    },
    {
     "data": {
      "image/png": "[encoded data removed]",
      "text/plain": [
       "<Figure size 864x720 with 2 Axes>"
      ]
     },
     "metadata": {
      "needs_background": "light"
     },
     "output_type": "display_data"
    }
   ],
   "source": [
    "df_cm = pd.DataFrame(cm)\n",
    "plt.figure(figsize=(12,10))\n",
    "sns.heatmap(df_cm, annot=True, cmap = 'Blues')\n",
    "plt.ylabel('True label')\n",
    "plt.xlabel('Predicted label')"
   ]
  },
  {
   "cell_type": "code",
   "execution_count": null,
   "metadata": {
    "colab": {
     "base_uri": "https://localhost:8080/"
    },
    "id": "fHjSO0Cl5GtE",
    "outputId": "d57afea2-ea16-47a5-86c7-55babff43a22",
    "pycharm": {
     "name": "#%%\n"
    }
   },
   "outputs": [
    {
     "name": "stdout",
     "output_type": "stream",
     "text": [
      "              precision    recall  f1-score   support\n",
      "\n",
      "           0       1.00      1.00      1.00         3\n",
      "           1       0.75      1.00      0.86         3\n",
      "           2       1.00      1.00      1.00         3\n",
      "           3       1.00      1.00      1.00         2\n",
      "           4       1.00      1.00      1.00         5\n",
      "           5       1.00      1.00      1.00         3\n",
      "           6       1.00      1.00      1.00         2\n",
      "           7       1.00      1.00      1.00         1\n",
      "           8       1.00      1.00      1.00         2\n",
      "           9       1.00      1.00      1.00         2\n",
      "          10       1.00      1.00      1.00         2\n",
      "          11       0.00      0.00      0.00         1\n",
      "          12       1.00      1.00      1.00         1\n",
      "          13       1.00      1.00      1.00         1\n",
      "          14       1.00      1.00      1.00         5\n",
      "          15       1.00      1.00      1.00         2\n",
      "          16       1.00      1.00      1.00         3\n",
      "          17       1.00      1.00      1.00         3\n",
      "          18       1.00      1.00      1.00         2\n",
      "          19       1.00      1.00      1.00         2\n",
      "          20       1.00      0.67      0.80         3\n",
      "          21       1.00      1.00      1.00         4\n",
      "          22       1.00      1.00      1.00         4\n",
      "          23       0.80      1.00      0.89         4\n",
      "          24       1.00      1.00      1.00         2\n",
      "          25       1.00      1.00      1.00         5\n",
      "          26       1.00      1.00      1.00         3\n",
      "          27       1.00      1.00      1.00         3\n",
      "          28       1.00      1.00      1.00         3\n",
      "          29       1.00      1.00      1.00         3\n",
      "          30       1.00      1.00      1.00         1\n",
      "          31       1.00      1.00      1.00         5\n",
      "          32       1.00      1.00      1.00         3\n",
      "          33       1.00      1.00      1.00         5\n",
      "\n",
      "    accuracy                           0.98        96\n",
      "   macro avg       0.96      0.96      0.96        96\n",
      "weighted avg       0.97      0.98      0.97        96\n",
      "\n"
     ]
    }
   ],
   "source": [
    "print(classification_report(y_test, y_test_pred)) "
   ]
  }
 ],
 "metadata": {
  "colab": {
   "name": "LR.ipynb",
   "provenance": []
  },
  "kernelspec": {
   "display_name": "Python 3",
   "name": "python3"
  },
  "language_info": {
   "name": "python"
  },
  "orig_nbformat": 4
 },
 "nbformat": 4,
 "nbformat_minor": 0
}