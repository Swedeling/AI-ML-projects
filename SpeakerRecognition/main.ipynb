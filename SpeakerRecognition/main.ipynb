{
 "cells": [
  {
   "cell_type": "markdown",
   "metadata": {},
   "source": [
    "### Necessary libraries"
   ]
  },
  {
   "cell_type": "code",
   "execution_count": null,
   "metadata": {},
   "outputs": [],
   "source": [
    "import numpy as np\n",
    "import librosa\n",
    "import matplotlib.pyplot as plt\n",
    "import scipy\n",
    "from spafe.utils import vis\n",
    "from spafe.features.lpc import lpc, lpcc"
   ]
  },
  {
   "cell_type": "markdown",
   "metadata": {},
   "source": [
    "## Silence removal algorithm"
   ]
  },
  {
   "cell_type": "code",
   "execution_count": null,
   "metadata": {},
   "outputs": [],
   "source": [
    "def silence_removing(y, sr):\n",
    "\n",
    "  #I calculate the mean and standard deviation for the first 1600 samples\n",
    "  test = y[:1600]\n",
    "  stand_dev = np.std(test)\n",
    "  mean = np.mean(test)  \n",
    "\n",
    "  x= np.zeros((y.shape))\n",
    "\n",
    "  #I check if the value of the one-dimensional Mahalanobis distance function is greater than 3 \n",
    "  # This is the detection of voice and non-voice parts i niegłosowych\n",
    "  for i in range(0,x.shape[0]):\n",
    "    if (abs(y[i]-mean))/stand_dev > 3:\n",
    "      x[i] = 1\n",
    "    else:\n",
    "      x[i] = 0\n",
    "\n",
    "  frame_size = int(sr/100)\n",
    "  lista = np.split(x,range(frame_size,x.shape[0],frame_size))\n",
    "\n",
    "  arr_numb = int(math.ceil(len(x)/(sr/100.0)))\n",
    "  probes_numb = int(math.ceil(sr/100))\n",
    "  temp_arr= np.zeros((arr_numb,probes_numb))\n",
    "  index = 0 \n",
    "\n",
    "  for arr in lista:\n",
    "    index += 1\n",
    "    zeros = 0\n",
    "    ones = 0\n",
    "    for i in arr:\n",
    "      if i == 0:\n",
    "        zeros += 1\n",
    "      if i == 1:\n",
    "        ones += 1\n",
    "    if zeros + ones == probes_numb:\n",
    "      if zeros > ones:\n",
    "        for i in range(0,probes_numb):\n",
    "          if arr[i] == 1:\n",
    "            temp_arr[index-1][i] = 0\n",
    "      if ones >= zeros:\n",
    "        for i in range(0,probes_numb):\n",
    "          temp_arr[index-1][i] = 1\n",
    "\n",
    "  one_temp_arr = temp_arr.flatten()\n",
    "\n",
    "  result = list()\n",
    "  for i in range(0,len(x)):\n",
    "    if one_temp_arr[i] == 1:\n",
    "      result.append(y[i])\n",
    "  result=np.array(result)\n",
    "\n",
    "  return result, sr "
   ]
  },
  {
   "cell_type": "markdown",
   "metadata": {},
   "source": [
    "## Feature extraction"
   ]
  },
  {
   "cell_type": "code",
   "execution_count": null,
   "metadata": {},
   "outputs": [],
   "source": [
    "def extract_features(index, row):\n",
    "\n",
    "   src = '/content/drive/MyDrive/clips/' + data['path'][index]\n",
    "   X, sample_rate = librosa.load(src, sr=None)\n",
    "   \n",
    "   # Removal of non-voiced portions\n",
    "   X, sample_rate = silence_removing(X, sample_rate)\n",
    "\n",
    "   # Generating the Mel frequency cepstral coefficients (MFCC) from the time series\n",
    "   mfccs = np.mean(librosa.feature.mfcc(y=X, sr=sample_rate, n_mfcc=40).T, axis=0)\n",
    "\n",
    "   # Lpcs calculation\n",
    "   lpcs = lpc(sig=X, fs=sample_rate, num_ceps=20)\n",
    "\n",
    "   # Lpccs calculation\n",
    "   lpccs = lpcc(sig=X, fs=sample_rate, num_ceps=20, normalize = True)\n",
    "\n",
    "   # Calculating the chromatogram from the run of the power spectrogram.\n",
    "   stft = np.abs(librosa.stft(X)) # Generates a Short-time Fourier transform (STFT) to use in the chroma_stft\n",
    "   chroma = np.mean(librosa.feature.chroma_stft(S=stft, sr=sample_rate).T, axis=0)\n",
    "\n",
    "   # Computing the spectogram on the Mel scale\n",
    "   mel = np.mean(librosa.feature.melspectrogram(X, sr=sample_rate).T, axis=0)\n",
    "\n",
    "   # Calculation of spectral contrast\n",
    "   contrast = np.mean(librosa.feature.spectral_contrast(S=stft, sr=sample_rate).T,axis=0)\n",
    "\n",
    "   # Calculation of the tonal features of the center of gravity of the spectrum (tonnetz)\n",
    "   tonnetz = np.mean(librosa.feature.tonnetz(y=librosa.effects.harmonic(X), sr=sample_rate).T,axis=0)\n",
    "\n",
    "   # Calculation of spectral features\n",
    "   spectral = list()\n",
    "   spectral_centroid = np.mean(librosa.feature.spectral_centroid(y=X, sr=sample_rate)) # środek ciężkości widma\n",
    "   spectral_bandwidth = np.mean(librosa.feature.spectral_bandwidth(y=X, sr=sample_rate)) #pasmo widmowe\n",
    "   spectral_rolloff = np.mean(librosa.feature.spectral_rolloff(y=X, sr=sample_rate)) # spadek widmowy\n",
    "   spectral.append(spectral_centroid)\n",
    "   spectral.append(spectral_bandwidth)\n",
    "   spectral.append(spectral_rolloff)\n",
    "\n",
    "   return mfccs, chroma, mel, contrast, tonnetz, spectral, lpcs, lpccs"
   ]
  },
  {
   "cell_type": "markdown",
   "metadata": {},
   "source": [
    "## Classification"
   ]
  },
  {
   "cell_type": "markdown",
   "metadata": {},
   "source": [
    "### Logistic Regression"
   ]
  },
  {
   "cell_type": "markdown",
   "metadata": {},
   "source": [
    "## Neural Network"
   ]
  }
 ],
 "metadata": {
  "language_info": {
   "name": "python"
  },
  "orig_nbformat": 4
 },
 "nbformat": 4,
 "nbformat_minor": 2
}
