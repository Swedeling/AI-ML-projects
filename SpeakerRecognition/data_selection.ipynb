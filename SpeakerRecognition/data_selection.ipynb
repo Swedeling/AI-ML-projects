{
  "cells": [
    {
      "cell_type": "markdown",
      "metadata": {
        "id": "rVLkr7Bb59-z"
      },
      "source": [
        "Data comes from Common Voice Database. As intended it was necessary to select about 30 speakers. So the first step was to get familiar with characteristics of the recordings and the speakers."
      ]
    },
    {
      "cell_type": "markdown",
      "metadata": {
        "id": "ndHxDHVkbFlx"
      },
      "source": [
        "First, I installed:\n",
        "\n",
        "```bash\n",
        "pip install librosa\n",
        "pip install pydub\n",
        "pip install pysoundfile\n",
        "pip install playsound\n",
        "```"
      ]
    },
    {
      "cell_type": "code",
      "execution_count": 24,
      "metadata": {
        "colab": {
          "base_uri": "https://localhost:8080/"
        },
        "id": "J3Z0alyMbfli",
        "outputId": "345abb25-0d05-4525-d1df-0c9f8761c093"
      },
      "outputs": [
        {
          "name": "stdout",
          "output_type": "stream",
          "text": [
            "Requirement already satisfied: librosa in /usr/local/lib/python3.7/dist-packages (0.8.1)\n",
            "Requirement already satisfied: numba>=0.43.0 in /usr/local/lib/python3.7/dist-packages (from librosa) (0.51.2)\n",
            "Requirement already satisfied: scikit-learn!=0.19.0,>=0.14.0 in /usr/local/lib/python3.7/dist-packages (from librosa) (1.0.2)\n",
            "Requirement already satisfied: resampy>=0.2.2 in /usr/local/lib/python3.7/dist-packages (from librosa) (0.2.2)\n",
            "Requirement already satisfied: decorator>=3.0.0 in /usr/local/lib/python3.7/dist-packages (from librosa) (4.4.2)\n",
            "Requirement already satisfied: packaging>=20.0 in /usr/local/lib/python3.7/dist-packages (from librosa) (21.3)\n",
            "Requirement already satisfied: audioread>=2.0.0 in /usr/local/lib/python3.7/dist-packages (from librosa) (2.1.9)\n",
            "Requirement already satisfied: pooch>=1.0 in /usr/local/lib/python3.7/dist-packages (from librosa) (1.6.0)\n",
            "Requirement already satisfied: soundfile>=0.10.2 in /usr/local/lib/python3.7/dist-packages (from librosa) (0.10.3.post1)\n",
            "Requirement already satisfied: joblib>=0.14 in /usr/local/lib/python3.7/dist-packages (from librosa) (1.1.0)\n",
            "Requirement already satisfied: numpy>=1.15.0 in /usr/local/lib/python3.7/dist-packages (from librosa) (1.21.5)\n",
            "Requirement already satisfied: scipy>=1.0.0 in /usr/local/lib/python3.7/dist-packages (from librosa) (1.4.1)\n",
            "Requirement already satisfied: llvmlite<0.35,>=0.34.0.dev0 in /usr/local/lib/python3.7/dist-packages (from numba>=0.43.0->librosa) (0.34.0)\n",
            "Requirement already satisfied: setuptools in /usr/local/lib/python3.7/dist-packages (from numba>=0.43.0->librosa) (57.4.0)\n",
            "Requirement already satisfied: pyparsing!=3.0.5,>=2.0.2 in /usr/local/lib/python3.7/dist-packages (from packaging>=20.0->librosa) (3.0.7)\n",
            "Requirement already satisfied: appdirs>=1.3.0 in /usr/local/lib/python3.7/dist-packages (from pooch>=1.0->librosa) (1.4.4)\n",
            "Requirement already satisfied: requests>=2.19.0 in /usr/local/lib/python3.7/dist-packages (from pooch>=1.0->librosa) (2.23.0)\n",
            "Requirement already satisfied: chardet<4,>=3.0.2 in /usr/local/lib/python3.7/dist-packages (from requests>=2.19.0->pooch>=1.0->librosa) (3.0.4)\n",
            "Requirement already satisfied: certifi>=2017.4.17 in /usr/local/lib/python3.7/dist-packages (from requests>=2.19.0->pooch>=1.0->librosa) (2021.10.8)\n",
            "Requirement already satisfied: idna<3,>=2.5 in /usr/local/lib/python3.7/dist-packages (from requests>=2.19.0->pooch>=1.0->librosa) (2.10)\n",
            "Requirement already satisfied: urllib3!=1.25.0,!=1.25.1,<1.26,>=1.21.1 in /usr/local/lib/python3.7/dist-packages (from requests>=2.19.0->pooch>=1.0->librosa) (1.24.3)\n",
            "Requirement already satisfied: six>=1.3 in /usr/local/lib/python3.7/dist-packages (from resampy>=0.2.2->librosa) (1.15.0)\n",
            "Requirement already satisfied: threadpoolctl>=2.0.0 in /usr/local/lib/python3.7/dist-packages (from scikit-learn!=0.19.0,>=0.14.0->librosa) (3.1.0)\n",
            "Requirement already satisfied: cffi>=1.0 in /usr/local/lib/python3.7/dist-packages (from soundfile>=0.10.2->librosa) (1.15.0)\n",
            "Requirement already satisfied: pycparser in /usr/local/lib/python3.7/dist-packages (from cffi>=1.0->soundfile>=0.10.2->librosa) (2.21)\n",
            "Requirement already satisfied: pydub in /usr/local/lib/python3.7/dist-packages (0.25.1)\n",
            "Requirement already satisfied: pysoundfile in /usr/local/lib/python3.7/dist-packages (0.9.0.post1)\n",
            "Requirement already satisfied: cffi>=0.6 in /usr/local/lib/python3.7/dist-packages (from pysoundfile) (1.15.0)\n",
            "Requirement already satisfied: pycparser in /usr/local/lib/python3.7/dist-packages (from cffi>=0.6->pysoundfile) (2.21)\n",
            "Requirement already satisfied: playsound in /usr/local/lib/python3.7/dist-packages (1.3.0)\n"
          ]
        }
      ],
      "source": [
        "!pip install librosa\n",
        "!pip install pydub\n",
        "!pip install pysoundfile\n",
        "!pip install playsound"
      ]
    },
    {
      "cell_type": "code",
      "execution_count": 25,
      "metadata": {
        "id": "Fm_9lIQj0qy5"
      },
      "outputs": [],
      "source": [
        "import pandas as pd \n",
        "import librosa\n",
        "import numpy as np \n",
        "import matplotlib.pyplot as plt \n",
        "import random\n",
        "import seaborn as sns\n",
        "from pydub import AudioSegment\n",
        "import librosa.display"
      ]
    },
    {
      "cell_type": "code",
      "execution_count": 26,
      "metadata": {
        "colab": {
          "base_uri": "https://localhost:8080/"
        },
        "id": "r9xM5k2kb84S",
        "outputId": "c1f51a74-171f-44f2-9840-dbad0ec505eb"
      },
      "outputs": [
        {
          "name": "stdout",
          "output_type": "stream",
          "text": [
            "Drive already mounted at /content/drive; to attempt to forcibly remount, call drive.mount(\"/content/drive\", force_remount=True).\n"
          ]
        }
      ],
      "source": [
        "from google.colab import drive\n",
        "drive.mount('/content/drive')"
      ]
    },
    {
      "cell_type": "code",
      "execution_count": 27,
      "metadata": {
        "id": "V9mkhsVH6PgQ"
      },
      "outputs": [],
      "source": [
        "df = pd.read_csv(\"/content/drive/MyDrive/SpeakerRecognition/train.tsv\", sep='\\t') "
      ]
    },
    {
      "cell_type": "markdown",
      "metadata": {
        "id": "G1kX9zIObFl1"
      },
      "source": [
        "I checked how many recordings came from each of the speakers."
      ]
    },
    {
      "cell_type": "code",
      "execution_count": 28,
      "metadata": {
        "colab": {
          "base_uri": "https://localhost:8080/",
          "height": 303
        },
        "id": "o9qAym1umgCV",
        "outputId": "321ea1cc-8df8-4b1c-d043-1a1672965e2e"
      },
      "outputs": [
        {
          "data": {
            "image/png": "[encoded data removed]",
            "text/plain": [
              "<Figure size 360x360 with 1 Axes>"
            ]
          },
          "metadata": {},
          "output_type": "display_data"
        }
      ],
      "source": [
        "counts = df['client_id'].value_counts()\n",
        "stat = counts.value_counts()\n",
        "stat = stat.rename(level = 0, index = 'Number of recordings')\n",
        "result = stat.rename(level = 0, index = 'Number of recordings')\n",
        "plot = stat.plot.pie(figsize=(5, 5))"
      ]
    },
    {
      "cell_type": "markdown",
      "metadata": {
        "id": "hcn5bAmPbFl3"
      },
      "source": [
        "I left only speakers with 14 recordings and changed  the client ids into format voice1, voice2, etc. "
      ]
    },
    {
      "cell_type": "code",
      "execution_count": 29,
      "metadata": {
        "id": "XWv1MjOc6YXn"
      },
      "outputs": [],
      "source": [
        "client_list= df[\"client_id\"]\n",
        "\n",
        "a={}\n",
        "for i in client_list:\n",
        "    if i not in a.keys():\n",
        "      a[i] = 1\n",
        "    else:\n",
        "      a[i] += 1\n",
        "\n",
        "id_list = list()\n",
        "for k, v in a.items():\n",
        "  if v == 14:\n",
        "    id_list.append(k)\n",
        "for index, row in df.iterrows():\n",
        "  if df['client_id'][index] not in id_list:\n",
        "    df.drop(index, axis=0, inplace=True)\n",
        "\n",
        "i=0\n",
        "replacement_mapping_dict = {}\n",
        "for k, v in a.items():\n",
        "    replacement_mapping_dict[k] = 'voice' + str(i)\n",
        "    i+=1\n",
        "df[\"client_id\"] = df[\"client_id\"].replace(replacement_mapping_dict, regex=True)"
      ]
    },
    {
      "cell_type": "code",
      "execution_count": 30,
      "metadata": {
        "colab": {
          "base_uri": "https://localhost:8080/",
          "height": 423
        },
        "id": "mqHu4LKArmT3",
        "outputId": "d3e5a97b-ed82-44e1-e9a5-d3bb482dc784"
      },
      "outputs": [
        {
          "data": {
            "text/html": [
              "\n",
              "  <div id=\"df-6a1fa125-fa63-412a-873a-26ae5dd4baf0\">\n",
              "    <div class=\"colab-df-container\">\n",
              "      <div>\n",
              "<style scoped>\n",
              "    .dataframe tbody tr th:only-of-type {\n",
              "        vertical-align: middle;\n",
              "    }\n",
              "\n",
              "    .dataframe tbody tr th {\n",
              "        vertical-align: top;\n",
              "    }\n",
              "\n",
              "    .dataframe thead th {\n",
              "        text-align: right;\n",
              "    }\n",
              "</style>\n",
              "<table border=\"1\" class=\"dataframe\">\n",
              "  <thead>\n",
              "    <tr style=\"text-align: right;\">\n",
              "      <th></th>\n",
              "      <th>client_id</th>\n",
              "      <th>path</th>\n",
              "      <th>sentence</th>\n",
              "      <th>up_votes</th>\n",
              "      <th>down_votes</th>\n",
              "      <th>age</th>\n",
              "      <th>gender</th>\n",
              "      <th>accent</th>\n",
              "      <th>locale</th>\n",
              "      <th>segment</th>\n",
              "    </tr>\n",
              "  </thead>\n",
              "  <tbody>\n",
              "    <tr>\n",
              "      <th>5267</th>\n",
              "      <td>voice415</td>\n",
              "      <td>common_voice_en_22190881.mp3</td>\n",
              "      <td>seven</td>\n",
              "      <td>2</td>\n",
              "      <td>0</td>\n",
              "      <td>NaN</td>\n",
              "      <td>NaN</td>\n",
              "      <td>NaN</td>\n",
              "      <td>en</td>\n",
              "      <td>Benchmark</td>\n",
              "    </tr>\n",
              "    <tr>\n",
              "      <th>5268</th>\n",
              "      <td>voice415</td>\n",
              "      <td>common_voice_en_22190883.mp3</td>\n",
              "      <td>four</td>\n",
              "      <td>2</td>\n",
              "      <td>1</td>\n",
              "      <td>NaN</td>\n",
              "      <td>NaN</td>\n",
              "      <td>NaN</td>\n",
              "      <td>en</td>\n",
              "      <td>Benchmark</td>\n",
              "    </tr>\n",
              "    <tr>\n",
              "      <th>5269</th>\n",
              "      <td>voice415</td>\n",
              "      <td>common_voice_en_22190884.mp3</td>\n",
              "      <td>no</td>\n",
              "      <td>2</td>\n",
              "      <td>0</td>\n",
              "      <td>NaN</td>\n",
              "      <td>NaN</td>\n",
              "      <td>NaN</td>\n",
              "      <td>en</td>\n",
              "      <td>Benchmark</td>\n",
              "    </tr>\n",
              "    <tr>\n",
              "      <th>5270</th>\n",
              "      <td>voice415</td>\n",
              "      <td>common_voice_en_22190885.mp3</td>\n",
              "      <td>three</td>\n",
              "      <td>2</td>\n",
              "      <td>0</td>\n",
              "      <td>NaN</td>\n",
              "      <td>NaN</td>\n",
              "      <td>NaN</td>\n",
              "      <td>en</td>\n",
              "      <td>Benchmark</td>\n",
              "    </tr>\n",
              "    <tr>\n",
              "      <th>5271</th>\n",
              "      <td>voice415</td>\n",
              "      <td>common_voice_en_22190887.mp3</td>\n",
              "      <td>six</td>\n",
              "      <td>2</td>\n",
              "      <td>0</td>\n",
              "      <td>NaN</td>\n",
              "      <td>NaN</td>\n",
              "      <td>NaN</td>\n",
              "      <td>en</td>\n",
              "      <td>Benchmark</td>\n",
              "    </tr>\n",
              "    <tr>\n",
              "      <th>...</th>\n",
              "      <td>...</td>\n",
              "      <td>...</td>\n",
              "      <td>...</td>\n",
              "      <td>...</td>\n",
              "      <td>...</td>\n",
              "      <td>...</td>\n",
              "      <td>...</td>\n",
              "      <td>...</td>\n",
              "      <td>...</td>\n",
              "      <td>...</td>\n",
              "    </tr>\n",
              "    <tr>\n",
              "      <th>16280</th>\n",
              "      <td>voice1201</td>\n",
              "      <td>common_voice_en_22090684.mp3</td>\n",
              "      <td>four</td>\n",
              "      <td>2</td>\n",
              "      <td>1</td>\n",
              "      <td>NaN</td>\n",
              "      <td>NaN</td>\n",
              "      <td>NaN</td>\n",
              "      <td>en</td>\n",
              "      <td>Benchmark</td>\n",
              "    </tr>\n",
              "    <tr>\n",
              "      <th>16281</th>\n",
              "      <td>voice1201</td>\n",
              "      <td>common_voice_en_22090691.mp3</td>\n",
              "      <td>no</td>\n",
              "      <td>3</td>\n",
              "      <td>0</td>\n",
              "      <td>NaN</td>\n",
              "      <td>NaN</td>\n",
              "      <td>NaN</td>\n",
              "      <td>en</td>\n",
              "      <td>Benchmark</td>\n",
              "    </tr>\n",
              "    <tr>\n",
              "      <th>16282</th>\n",
              "      <td>voice1201</td>\n",
              "      <td>common_voice_en_22090696.mp3</td>\n",
              "      <td>one</td>\n",
              "      <td>3</td>\n",
              "      <td>0</td>\n",
              "      <td>NaN</td>\n",
              "      <td>NaN</td>\n",
              "      <td>NaN</td>\n",
              "      <td>en</td>\n",
              "      <td>Benchmark</td>\n",
              "    </tr>\n",
              "    <tr>\n",
              "      <th>16283</th>\n",
              "      <td>voice1201</td>\n",
              "      <td>common_voice_en_22090698.mp3</td>\n",
              "      <td>yes</td>\n",
              "      <td>2</td>\n",
              "      <td>0</td>\n",
              "      <td>NaN</td>\n",
              "      <td>NaN</td>\n",
              "      <td>NaN</td>\n",
              "      <td>en</td>\n",
              "      <td>Benchmark</td>\n",
              "    </tr>\n",
              "    <tr>\n",
              "      <th>16284</th>\n",
              "      <td>voice1201</td>\n",
              "      <td>common_voice_en_22090701.mp3</td>\n",
              "      <td>six</td>\n",
              "      <td>2</td>\n",
              "      <td>0</td>\n",
              "      <td>NaN</td>\n",
              "      <td>NaN</td>\n",
              "      <td>NaN</td>\n",
              "      <td>en</td>\n",
              "      <td>Benchmark</td>\n",
              "    </tr>\n",
              "  </tbody>\n",
              "</table>\n",
              "<p>11018 rows × 10 columns</p>\n",
              "</div>\n",
              "      <button class=\"colab-df-convert\" onclick=\"convertToInteractive('df-6a1fa125-fa63-412a-873a-26ae5dd4baf0')\"\n",
              "              title=\"Convert this dataframe to an interactive table.\"\n",
              "              style=\"display:none;\">\n",
              "        \n",
              "  <svg xmlns=\"http://www.w3.org/2000/svg\" height=\"24px\"viewBox=\"0 0 24 24\"\n",
              "       width=\"24px\">\n",
              "    <path d=\"M0 0h24v24H0V0z\" fill=\"none\"/>\n",
              "    <path d=\"M18.56 5.44l.94 2.06.94-2.06 2.06-.94-2.06-.94-.94-2.06-.94 2.06-2.06.94zm-11 1L8.5 8.5l.94-2.06 2.06-.94-2.06-.94L8.5 2.5l-.94 2.06-2.06.94zm10 10l.94 2.06.94-2.06 2.06-.94-2.06-.94-.94-2.06-.94 2.06-2.06.94z\"/><path d=\"M17.41 7.96l-1.37-1.37c-.4-.4-.92-.59-1.43-.59-.52 0-1.04.2-1.43.59L10.3 9.45l-7.72 7.72c-.78.78-.78 2.05 0 2.83L4 21.41c.39.39.9.59 1.41.59.51 0 1.02-.2 1.41-.59l7.78-7.78 2.81-2.81c.8-.78.8-2.07 0-2.86zM5.41 20L4 18.59l7.72-7.72 1.47 1.35L5.41 20z\"/>\n",
              "  </svg>\n",
              "      </button>\n",
              "      \n",
              "  <style>\n",
              "    .colab-df-container {\n",
              "      display:flex;\n",
              "      flex-wrap:wrap;\n",
              "      gap: 12px;\n",
              "    }\n",
              "\n",
              "    .colab-df-convert {\n",
              "      background-color: #E8F0FE;\n",
              "      border: none;\n",
              "      border-radius: 50%;\n",
              "      cursor: pointer;\n",
              "      display: none;\n",
              "      fill: #1967D2;\n",
              "      height: 32px;\n",
              "      padding: 0 0 0 0;\n",
              "      width: 32px;\n",
              "    }\n",
              "\n",
              "    .colab-df-convert:hover {\n",
              "      background-color: #E2EBFA;\n",
              "      box-shadow: 0px 1px 2px rgba(60, 64, 67, 0.3), 0px 1px 3px 1px rgba(60, 64, 67, 0.15);\n",
              "      fill: #174EA6;\n",
              "    }\n",
              "\n",
              "    [theme=dark] .colab-df-convert {\n",
              "      background-color: #3B4455;\n",
              "      fill: #D2E3FC;\n",
              "    }\n",
              "\n",
              "    [theme=dark] .colab-df-convert:hover {\n",
              "      background-color: #434B5C;\n",
              "      box-shadow: 0px 1px 3px 1px rgba(0, 0, 0, 0.15);\n",
              "      filter: drop-shadow(0px 1px 2px rgba(0, 0, 0, 0.3));\n",
              "      fill: #FFFFFF;\n",
              "    }\n",
              "  </style>\n",
              "\n",
              "      <script>\n",
              "        const buttonEl =\n",
              "          document.querySelector('#df-6a1fa125-fa63-412a-873a-26ae5dd4baf0 button.colab-df-convert');\n",
              "        buttonEl.style.display =\n",
              "          google.colab.kernel.accessAllowed ? 'block' : 'none';\n",
              "\n",
              "        async function convertToInteractive(key) {\n",
              "          const element = document.querySelector('#df-6a1fa125-fa63-412a-873a-26ae5dd4baf0');\n",
              "          const dataTable =\n",
              "            await google.colab.kernel.invokeFunction('convertToInteractive',\n",
              "                                                     [key], {});\n",
              "          if (!dataTable) return;\n",
              "\n",
              "          const docLinkHtml = 'Like what you see? Visit the ' +\n",
              "            '<a target=\"_blank\" href=https://colab.research.google.com/notebooks/data_table.ipynb>data table notebook</a>'\n",
              "            + ' to learn more about interactive tables.';\n",
              "          element.innerHTML = '';\n",
              "          dataTable['output_type'] = 'display_data';\n",
              "          await google.colab.output.renderOutput(dataTable, element);\n",
              "          const docLink = document.createElement('div');\n",
              "          docLink.innerHTML = docLinkHtml;\n",
              "          element.appendChild(docLink);\n",
              "        }\n",
              "      </script>\n",
              "    </div>\n",
              "  </div>\n",
              "  "
            ],
            "text/plain": [
              "       client_id                          path sentence  up_votes  down_votes  \\\n",
              "5267    voice415  common_voice_en_22190881.mp3    seven         2           0   \n",
              "5268    voice415  common_voice_en_22190883.mp3     four         2           1   \n",
              "5269    voice415  common_voice_en_22190884.mp3       no         2           0   \n",
              "5270    voice415  common_voice_en_22190885.mp3    three         2           0   \n",
              "5271    voice415  common_voice_en_22190887.mp3      six         2           0   \n",
              "...          ...                           ...      ...       ...         ...   \n",
              "16280  voice1201  common_voice_en_22090684.mp3     four         2           1   \n",
              "16281  voice1201  common_voice_en_22090691.mp3       no         3           0   \n",
              "16282  voice1201  common_voice_en_22090696.mp3      one         3           0   \n",
              "16283  voice1201  common_voice_en_22090698.mp3      yes         2           0   \n",
              "16284  voice1201  common_voice_en_22090701.mp3      six         2           0   \n",
              "\n",
              "       age gender accent locale    segment  \n",
              "5267   NaN    NaN    NaN     en  Benchmark  \n",
              "5268   NaN    NaN    NaN     en  Benchmark  \n",
              "5269   NaN    NaN    NaN     en  Benchmark  \n",
              "5270   NaN    NaN    NaN     en  Benchmark  \n",
              "5271   NaN    NaN    NaN     en  Benchmark  \n",
              "...    ...    ...    ...    ...        ...  \n",
              "16280  NaN    NaN    NaN     en  Benchmark  \n",
              "16281  NaN    NaN    NaN     en  Benchmark  \n",
              "16282  NaN    NaN    NaN     en  Benchmark  \n",
              "16283  NaN    NaN    NaN     en  Benchmark  \n",
              "16284  NaN    NaN    NaN     en  Benchmark  \n",
              "\n",
              "[11018 rows x 10 columns]"
            ]
          },
          "execution_count": 30,
          "metadata": {},
          "output_type": "execute_result"
        }
      ],
      "source": [
        "df"
      ]
    },
    {
      "cell_type": "code",
      "execution_count": 31,
      "metadata": {
        "id": "4juZP6Xu7Lpy"
      },
      "outputs": [],
      "source": [
        "df=df.reset_index()\n",
        "df.pop('index')\n",
        "df=df.fillna(0)"
      ]
    },
    {
      "cell_type": "markdown",
      "metadata": {
        "id": "LAHXbXhGbFl7"
      },
      "source": [
        "Currently, the collection includes recordings from 1,201 speakers."
      ]
    },
    {
      "cell_type": "markdown",
      "metadata": {
        "id": "qf2mS0-AbFl7"
      },
      "source": [
        "### Dataset characteristics"
      ]
    },
    {
      "cell_type": "code",
      "execution_count": 32,
      "metadata": {
        "colab": {
          "base_uri": "https://localhost:8080/"
        },
        "id": "48ghZuqzmRQt",
        "outputId": "2ff716c7-f6dd-42a3-9349-e38d751f6cc0"
      },
      "outputs": [
        {
          "name": "stdout",
          "output_type": "stream",
          "text": [
            "Accent\n",
            "0              6902\n",
            "us             2058\n",
            "england         784\n",
            "indian          336\n",
            "canada          294\n",
            "australia       280\n",
            "hongkong         70\n",
            "ireland          70\n",
            "philippines      56\n",
            "scotland         42\n",
            "african          42\n",
            "newzealand       42\n",
            "malaysia         28\n",
            "singapore        14\n",
            "Name: accent, dtype: int64\n",
            "\n",
            "Gender\n",
            "0         4956\n",
            "male      4326\n",
            "female    1540\n",
            "other      196\n",
            "Name: gender, dtype: int64\n",
            "\n",
            "Age\n",
            "0            4886\n",
            "twenties     2422\n",
            "thirties     1134\n",
            "teens         896\n",
            "fourties      630\n",
            "fifties       616\n",
            "sixties       280\n",
            "seventies     140\n",
            "eighties       14\n",
            "Name: age, dtype: int64\n",
            "\n",
            "Sentence\n",
            "seven      787\n",
            "four       787\n",
            "no         787\n",
            "three      787\n",
            "six        787\n",
            "yes        787\n",
            "nine       787\n",
            "one        787\n",
            "Firefox    787\n",
            "Hey        787\n",
            "zero       787\n",
            "two        787\n",
            "eight      787\n",
            "five       787\n",
            "Name: sentence, dtype: int64\n",
            "\n",
            "Down votes\n",
            "0    9325\n",
            "1    1551\n",
            "2     122\n",
            "3      19\n",
            "4       1\n",
            "Name: down_votes, dtype: int64\n"
          ]
        }
      ],
      "source": [
        "print('Accent')\n",
        "print(df['accent'].value_counts())\n",
        "print(\"\\nGender\")\n",
        "print(df['gender'].value_counts())\n",
        "print(\"\\nAge\")\n",
        "print(df['age'].value_counts())\n",
        "print(\"\\nSentence\")\n",
        "print(df['sentence'].value_counts())\n",
        "print(\"\\nDown votes\")\n",
        "print(df['down_votes'].value_counts())"
      ]
    },
    {
      "cell_type": "markdown",
      "metadata": {
        "id": "V0HmrBAGbFl8"
      },
      "source": [
        "I decided to limit the dataset with conditions:\n",
        "1) no accent\n",
        "2) only men (due to more recordings in the set)\n",
        "3) only twenties\n",
        "4) down votes less than 2"
      ]
    },
    {
      "cell_type": "code",
      "execution_count": 33,
      "metadata": {
        "id": "bD2apU3V7SVH"
      },
      "outputs": [],
      "source": [
        "client=list()\n",
        "path=list()\n",
        "sentence=list()\n",
        "up=list()\n",
        "down=list()\n",
        "age=list()\n",
        "gender=list() \n",
        "accent =list()\n",
        "\n",
        "for index, row in df.iterrows():\n",
        "  if df['accent'][index] == 0 and df['age'][index] == 'twenties' and df['gender'][index] == 'male' and df['down_votes'][index] < 2:\n",
        "    client.append(df['client_id'][index])\n",
        "    path.append(df['path'][index])\n",
        "    sentence.append(df['sentence'][index])\n",
        "    up.append(df['up_votes'][index])\n",
        "    down.append(df['down_votes'][index])\n",
        "    age.append(df['age'][index])\n",
        "    gender.append(df['gender'][index])\n",
        "    accent.append(df['accent'][index])\n",
        "\n",
        "data = list(zip(client, path, sentence, up, down, age, gender, accent)) \n",
        "df = pd.DataFrame(data, columns = ['client_id', 'path', 'sentence', 'up_votes', 'down_votes', 'age', 'gender', 'accent'])"
      ]
    },
    {
      "cell_type": "markdown",
      "metadata": {
        "id": "lHbARtFhbFl9"
      },
      "source": [
        "I checked again whether the dataset contains exactly 14 recordings of speakers. "
      ]
    },
    {
      "cell_type": "code",
      "execution_count": 34,
      "metadata": {
        "id": "nLiKoxqhdDnl"
      },
      "outputs": [],
      "source": [
        "client_list= df[\"client_id\"]\n",
        "\n",
        "a={}\n",
        "a[df[\"client_id\"][0]]=1\n",
        "for i in client_list:\n",
        "    if i not in a.keys():\n",
        "      a[i] = 1\n",
        "    else:\n",
        "      a[i] += 1\n",
        "\n",
        "id_list = list()\n",
        "for k, v in a.items():\n",
        "  if v == 14:\n",
        "    id_list.append(k)\n",
        "for index, row in df.iterrows():\n",
        "  if df['client_id'][index] not in id_list:\n",
        "    df.drop(index, axis=0, inplace=True)"
      ]
    },
    {
      "cell_type": "code",
      "execution_count": 35,
      "metadata": {
        "colab": {
          "base_uri": "https://localhost:8080/"
        },
        "id": "eugsXFfp6mfo",
        "outputId": "be5c6252-bf73-469f-f0b3-b6d9d8774caf"
      },
      "outputs": [
        {
          "data": {
            "text/plain": [
              "0       14\n",
              "1       15\n",
              "2       16\n",
              "3       17\n",
              "4       18\n",
              "      ... \n",
              "471    574\n",
              "472    575\n",
              "473    576\n",
              "474    577\n",
              "475    578\n",
              "Name: index, Length: 476, dtype: int64"
            ]
          },
          "execution_count": 35,
          "metadata": {},
          "output_type": "execute_result"
        }
      ],
      "source": [
        "df=df.reset_index()\n",
        "df.pop('index')"
      ]
    },
    {
      "cell_type": "code",
      "execution_count": 36,
      "metadata": {
        "colab": {
          "base_uri": "https://localhost:8080/",
          "height": 339
        },
        "id": "JO73Zusl7yNX",
        "outputId": "fd826aad-8a7b-4363-f951-2f7cb2fc43f4"
      },
      "outputs": [
        {
          "data": {
            "image/png": "[encoded data removed]",
            "text/plain": [
              "<Figure size 1080x360 with 1 Axes>"
            ]
          },
          "metadata": {},
          "output_type": "display_data"
        }
      ],
      "source": [
        "sns.set(rc={'figure.figsize':(15, 5)})\n",
        "sns.countplot(x=\"sentence\", \n",
        "        data=df[df['sentence'].notna()])\n",
        "plt.show()"
      ]
    },
    {
      "cell_type": "code",
      "execution_count": 37,
      "metadata": {
        "colab": {
          "base_uri": "https://localhost:8080/",
          "height": 344
        },
        "id": "chvIAFv874-n",
        "outputId": "94acbfe1-c8ce-412d-fd97-884e25889024"
      },
      "outputs": [
        {
          "data": {
            "image/png": "[encoded data removed]",
            "text/plain": [
              "<Figure size 1372.47x360 with 1 Axes>"
            ]
          },
          "metadata": {},
          "output_type": "display_data"
        }
      ],
      "source": [
        "sns.displot(x=\"client_id\", \n",
        "        data=df[df['client_id'].notna()], \n",
        "        hue='sentence',\n",
        "        multiple='stack',\n",
        "        height=5, aspect=18/5)\n",
        "plt.show()"
      ]
    },
    {
      "cell_type": "code",
      "execution_count": 38,
      "metadata": {
        "colab": {
          "base_uri": "https://localhost:8080/",
          "height": 206
        },
        "id": "9Ein4Nvk8HEh",
        "outputId": "8c978325-c623-43bf-fb01-ab0d28f51379"
      },
      "outputs": [
        {
          "data": {
            "text/html": [
              "\n",
              "  <div id=\"df-64f15e23-7d66-49c6-9f93-c3fa2b8c099f\">\n",
              "    <div class=\"colab-df-container\">\n",
              "      <div>\n",
              "<style scoped>\n",
              "    .dataframe tbody tr th:only-of-type {\n",
              "        vertical-align: middle;\n",
              "    }\n",
              "\n",
              "    .dataframe tbody tr th {\n",
              "        vertical-align: top;\n",
              "    }\n",
              "\n",
              "    .dataframe thead th {\n",
              "        text-align: right;\n",
              "    }\n",
              "</style>\n",
              "<table border=\"1\" class=\"dataframe\">\n",
              "  <thead>\n",
              "    <tr style=\"text-align: right;\">\n",
              "      <th></th>\n",
              "      <th>client_id</th>\n",
              "      <th>path</th>\n",
              "      <th>sentence</th>\n",
              "    </tr>\n",
              "  </thead>\n",
              "  <tbody>\n",
              "    <tr>\n",
              "      <th>0</th>\n",
              "      <td>voice459</td>\n",
              "      <td>common_voice_en_22006234.mp3</td>\n",
              "      <td>five</td>\n",
              "    </tr>\n",
              "    <tr>\n",
              "      <th>1</th>\n",
              "      <td>voice459</td>\n",
              "      <td>common_voice_en_22006235.mp3</td>\n",
              "      <td>zero</td>\n",
              "    </tr>\n",
              "    <tr>\n",
              "      <th>2</th>\n",
              "      <td>voice459</td>\n",
              "      <td>common_voice_en_22006237.mp3</td>\n",
              "      <td>six</td>\n",
              "    </tr>\n",
              "    <tr>\n",
              "      <th>3</th>\n",
              "      <td>voice459</td>\n",
              "      <td>common_voice_en_22006238.mp3</td>\n",
              "      <td>eight</td>\n",
              "    </tr>\n",
              "    <tr>\n",
              "      <th>4</th>\n",
              "      <td>voice459</td>\n",
              "      <td>common_voice_en_22006239.mp3</td>\n",
              "      <td>Hey</td>\n",
              "    </tr>\n",
              "  </tbody>\n",
              "</table>\n",
              "</div>\n",
              "      <button class=\"colab-df-convert\" onclick=\"convertToInteractive('df-64f15e23-7d66-49c6-9f93-c3fa2b8c099f')\"\n",
              "              title=\"Convert this dataframe to an interactive table.\"\n",
              "              style=\"display:none;\">\n",
              "        \n",
              "  <svg xmlns=\"http://www.w3.org/2000/svg\" height=\"24px\"viewBox=\"0 0 24 24\"\n",
              "       width=\"24px\">\n",
              "    <path d=\"M0 0h24v24H0V0z\" fill=\"none\"/>\n",
              "    <path d=\"M18.56 5.44l.94 2.06.94-2.06 2.06-.94-2.06-.94-.94-2.06-.94 2.06-2.06.94zm-11 1L8.5 8.5l.94-2.06 2.06-.94-2.06-.94L8.5 2.5l-.94 2.06-2.06.94zm10 10l.94 2.06.94-2.06 2.06-.94-2.06-.94-.94-2.06-.94 2.06-2.06.94z\"/><path d=\"M17.41 7.96l-1.37-1.37c-.4-.4-.92-.59-1.43-.59-.52 0-1.04.2-1.43.59L10.3 9.45l-7.72 7.72c-.78.78-.78 2.05 0 2.83L4 21.41c.39.39.9.59 1.41.59.51 0 1.02-.2 1.41-.59l7.78-7.78 2.81-2.81c.8-.78.8-2.07 0-2.86zM5.41 20L4 18.59l7.72-7.72 1.47 1.35L5.41 20z\"/>\n",
              "  </svg>\n",
              "      </button>\n",
              "      \n",
              "  <style>\n",
              "    .colab-df-container {\n",
              "      display:flex;\n",
              "      flex-wrap:wrap;\n",
              "      gap: 12px;\n",
              "    }\n",
              "\n",
              "    .colab-df-convert {\n",
              "      background-color: #E8F0FE;\n",
              "      border: none;\n",
              "      border-radius: 50%;\n",
              "      cursor: pointer;\n",
              "      display: none;\n",
              "      fill: #1967D2;\n",
              "      height: 32px;\n",
              "      padding: 0 0 0 0;\n",
              "      width: 32px;\n",
              "    }\n",
              "\n",
              "    .colab-df-convert:hover {\n",
              "      background-color: #E2EBFA;\n",
              "      box-shadow: 0px 1px 2px rgba(60, 64, 67, 0.3), 0px 1px 3px 1px rgba(60, 64, 67, 0.15);\n",
              "      fill: #174EA6;\n",
              "    }\n",
              "\n",
              "    [theme=dark] .colab-df-convert {\n",
              "      background-color: #3B4455;\n",
              "      fill: #D2E3FC;\n",
              "    }\n",
              "\n",
              "    [theme=dark] .colab-df-convert:hover {\n",
              "      background-color: #434B5C;\n",
              "      box-shadow: 0px 1px 3px 1px rgba(0, 0, 0, 0.15);\n",
              "      filter: drop-shadow(0px 1px 2px rgba(0, 0, 0, 0.3));\n",
              "      fill: #FFFFFF;\n",
              "    }\n",
              "  </style>\n",
              "\n",
              "      <script>\n",
              "        const buttonEl =\n",
              "          document.querySelector('#df-64f15e23-7d66-49c6-9f93-c3fa2b8c099f button.colab-df-convert');\n",
              "        buttonEl.style.display =\n",
              "          google.colab.kernel.accessAllowed ? 'block' : 'none';\n",
              "\n",
              "        async function convertToInteractive(key) {\n",
              "          const element = document.querySelector('#df-64f15e23-7d66-49c6-9f93-c3fa2b8c099f');\n",
              "          const dataTable =\n",
              "            await google.colab.kernel.invokeFunction('convertToInteractive',\n",
              "                                                     [key], {});\n",
              "          if (!dataTable) return;\n",
              "\n",
              "          const docLinkHtml = 'Like what you see? Visit the ' +\n",
              "            '<a target=\"_blank\" href=https://colab.research.google.com/notebooks/data_table.ipynb>data table notebook</a>'\n",
              "            + ' to learn more about interactive tables.';\n",
              "          element.innerHTML = '';\n",
              "          dataTable['output_type'] = 'display_data';\n",
              "          await google.colab.output.renderOutput(dataTable, element);\n",
              "          const docLink = document.createElement('div');\n",
              "          docLink.innerHTML = docLinkHtml;\n",
              "          element.appendChild(docLink);\n",
              "        }\n",
              "      </script>\n",
              "    </div>\n",
              "  </div>\n",
              "  "
            ],
            "text/plain": [
              "  client_id                          path sentence\n",
              "0  voice459  common_voice_en_22006234.mp3     five\n",
              "1  voice459  common_voice_en_22006235.mp3     zero\n",
              "2  voice459  common_voice_en_22006237.mp3      six\n",
              "3  voice459  common_voice_en_22006238.mp3    eight\n",
              "4  voice459  common_voice_en_22006239.mp3      Hey"
            ]
          },
          "execution_count": 38,
          "metadata": {},
          "output_type": "execute_result"
        }
      ],
      "source": [
        "df = df[['client_id','path','sentence']]\n",
        "data = df[df['client_id'].notna() & df['sentence'].notna()]\n",
        "data.reset_index(inplace=True, drop=True)\n",
        "data.head()"
      ]
    },
    {
      "cell_type": "markdown",
      "metadata": {
        "id": "VVPMMdbabFmC"
      },
      "source": [
        "I changed ids of the 34 speakers left in dataset in order to make futher work easier. "
      ]
    },
    {
      "cell_type": "code",
      "execution_count": 39,
      "metadata": {
        "id": "vvmfEcE2hiql"
      },
      "outputs": [],
      "source": [
        "client_list= data[\"client_id\"]\n",
        "\n",
        "a={}\n",
        "for i in client_list:\n",
        "    if i not in a.keys():\n",
        "      a[i] = 1\n",
        "    else:\n",
        "      a[i] += 1\n",
        "\n",
        "num=1\n",
        "replacement_mapping_dict = {}\n",
        "for k, v in a.items():\n",
        "    replacement_mapping_dict[k] = 'voice' + str(num)\n",
        "    num+=1\n",
        "\n",
        "data[\"client_id\"] = data[\"client_id\"].replace(replacement_mapping_dict, regex=True)"
      ]
    },
    {
      "cell_type": "code",
      "execution_count": 40,
      "metadata": {
        "colab": {
          "base_uri": "https://localhost:8080/",
          "height": 206
        },
        "id": "dDygZfIck038",
        "outputId": "4b80dba5-fe5a-445a-fa77-5bf54a1c14d3"
      },
      "outputs": [
        {
          "data": {
            "text/html": [
              "\n",
              "  <div id=\"df-d2b313bf-fc57-4c20-8b3d-8eb59ea60fe1\">\n",
              "    <div class=\"colab-df-container\">\n",
              "      <div>\n",
              "<style scoped>\n",
              "    .dataframe tbody tr th:only-of-type {\n",
              "        vertical-align: middle;\n",
              "    }\n",
              "\n",
              "    .dataframe tbody tr th {\n",
              "        vertical-align: top;\n",
              "    }\n",
              "\n",
              "    .dataframe thead th {\n",
              "        text-align: right;\n",
              "    }\n",
              "</style>\n",
              "<table border=\"1\" class=\"dataframe\">\n",
              "  <thead>\n",
              "    <tr style=\"text-align: right;\">\n",
              "      <th></th>\n",
              "      <th>client_id</th>\n",
              "      <th>path</th>\n",
              "      <th>sentence</th>\n",
              "      <th>label</th>\n",
              "    </tr>\n",
              "  </thead>\n",
              "  <tbody>\n",
              "    <tr>\n",
              "      <th>0</th>\n",
              "      <td>voice1</td>\n",
              "      <td>common_voice_en_22006234.mp3</td>\n",
              "      <td>five</td>\n",
              "      <td>0</td>\n",
              "    </tr>\n",
              "    <tr>\n",
              "      <th>1</th>\n",
              "      <td>voice1</td>\n",
              "      <td>common_voice_en_22006235.mp3</td>\n",
              "      <td>zero</td>\n",
              "      <td>0</td>\n",
              "    </tr>\n",
              "    <tr>\n",
              "      <th>2</th>\n",
              "      <td>voice1</td>\n",
              "      <td>common_voice_en_22006237.mp3</td>\n",
              "      <td>six</td>\n",
              "      <td>0</td>\n",
              "    </tr>\n",
              "    <tr>\n",
              "      <th>3</th>\n",
              "      <td>voice1</td>\n",
              "      <td>common_voice_en_22006238.mp3</td>\n",
              "      <td>eight</td>\n",
              "      <td>0</td>\n",
              "    </tr>\n",
              "    <tr>\n",
              "      <th>4</th>\n",
              "      <td>voice1</td>\n",
              "      <td>common_voice_en_22006239.mp3</td>\n",
              "      <td>Hey</td>\n",
              "      <td>0</td>\n",
              "    </tr>\n",
              "  </tbody>\n",
              "</table>\n",
              "</div>\n",
              "      <button class=\"colab-df-convert\" onclick=\"convertToInteractive('df-d2b313bf-fc57-4c20-8b3d-8eb59ea60fe1')\"\n",
              "              title=\"Convert this dataframe to an interactive table.\"\n",
              "              style=\"display:none;\">\n",
              "        \n",
              "  <svg xmlns=\"http://www.w3.org/2000/svg\" height=\"24px\"viewBox=\"0 0 24 24\"\n",
              "       width=\"24px\">\n",
              "    <path d=\"M0 0h24v24H0V0z\" fill=\"none\"/>\n",
              "    <path d=\"M18.56 5.44l.94 2.06.94-2.06 2.06-.94-2.06-.94-.94-2.06-.94 2.06-2.06.94zm-11 1L8.5 8.5l.94-2.06 2.06-.94-2.06-.94L8.5 2.5l-.94 2.06-2.06.94zm10 10l.94 2.06.94-2.06 2.06-.94-2.06-.94-.94-2.06-.94 2.06-2.06.94z\"/><path d=\"M17.41 7.96l-1.37-1.37c-.4-.4-.92-.59-1.43-.59-.52 0-1.04.2-1.43.59L10.3 9.45l-7.72 7.72c-.78.78-.78 2.05 0 2.83L4 21.41c.39.39.9.59 1.41.59.51 0 1.02-.2 1.41-.59l7.78-7.78 2.81-2.81c.8-.78.8-2.07 0-2.86zM5.41 20L4 18.59l7.72-7.72 1.47 1.35L5.41 20z\"/>\n",
              "  </svg>\n",
              "      </button>\n",
              "      \n",
              "  <style>\n",
              "    .colab-df-container {\n",
              "      display:flex;\n",
              "      flex-wrap:wrap;\n",
              "      gap: 12px;\n",
              "    }\n",
              "\n",
              "    .colab-df-convert {\n",
              "      background-color: #E8F0FE;\n",
              "      border: none;\n",
              "      border-radius: 50%;\n",
              "      cursor: pointer;\n",
              "      display: none;\n",
              "      fill: #1967D2;\n",
              "      height: 32px;\n",
              "      padding: 0 0 0 0;\n",
              "      width: 32px;\n",
              "    }\n",
              "\n",
              "    .colab-df-convert:hover {\n",
              "      background-color: #E2EBFA;\n",
              "      box-shadow: 0px 1px 2px rgba(60, 64, 67, 0.3), 0px 1px 3px 1px rgba(60, 64, 67, 0.15);\n",
              "      fill: #174EA6;\n",
              "    }\n",
              "\n",
              "    [theme=dark] .colab-df-convert {\n",
              "      background-color: #3B4455;\n",
              "      fill: #D2E3FC;\n",
              "    }\n",
              "\n",
              "    [theme=dark] .colab-df-convert:hover {\n",
              "      background-color: #434B5C;\n",
              "      box-shadow: 0px 1px 3px 1px rgba(0, 0, 0, 0.15);\n",
              "      filter: drop-shadow(0px 1px 2px rgba(0, 0, 0, 0.3));\n",
              "      fill: #FFFFFF;\n",
              "    }\n",
              "  </style>\n",
              "\n",
              "      <script>\n",
              "        const buttonEl =\n",
              "          document.querySelector('#df-d2b313bf-fc57-4c20-8b3d-8eb59ea60fe1 button.colab-df-convert');\n",
              "        buttonEl.style.display =\n",
              "          google.colab.kernel.accessAllowed ? 'block' : 'none';\n",
              "\n",
              "        async function convertToInteractive(key) {\n",
              "          const element = document.querySelector('#df-d2b313bf-fc57-4c20-8b3d-8eb59ea60fe1');\n",
              "          const dataTable =\n",
              "            await google.colab.kernel.invokeFunction('convertToInteractive',\n",
              "                                                     [key], {});\n",
              "          if (!dataTable) return;\n",
              "\n",
              "          const docLinkHtml = 'Like what you see? Visit the ' +\n",
              "            '<a target=\"_blank\" href=https://colab.research.google.com/notebooks/data_table.ipynb>data table notebook</a>'\n",
              "            + ' to learn more about interactive tables.';\n",
              "          element.innerHTML = '';\n",
              "          dataTable['output_type'] = 'display_data';\n",
              "          await google.colab.output.renderOutput(dataTable, element);\n",
              "          const docLink = document.createElement('div');\n",
              "          docLink.innerHTML = docLinkHtml;\n",
              "          element.appendChild(docLink);\n",
              "        }\n",
              "      </script>\n",
              "    </div>\n",
              "  </div>\n",
              "  "
            ],
            "text/plain": [
              "  client_id                          path sentence  label\n",
              "0    voice1  common_voice_en_22006234.mp3     five      0\n",
              "1    voice1  common_voice_en_22006235.mp3     zero      0\n",
              "2    voice1  common_voice_en_22006237.mp3      six      0\n",
              "3    voice1  common_voice_en_22006238.mp3    eight      0\n",
              "4    voice1  common_voice_en_22006239.mp3      Hey      0"
            ]
          },
          "execution_count": 40,
          "metadata": {},
          "output_type": "execute_result"
        }
      ],
      "source": [
        "data['label'] = data['client_id']\n",
        "cleanup_nums = {\"label\": {\"voice1\":0,\"voice2\":1,\"voice3\":2, \"voice4\":3, \"voice5\":4, \"voice6\":5, \"voice7\":6, \"voice8\":7, \"voice9\":8, \"voice10\":9, \"voice11\":10, \"voice12\":11, \"voice13\":12, 'voice14':13, 'voice15':14,'voice16':15,'voice17':16,'voice18':17,'voice19':18, \"voice20\":19,\"voice21\":20,\"voice22\":21, \"voice23\":22, \"voice24\":23, \"voice25\":24, \"voice26\":25, \"voice27\":26,  \"voice28\":27, \"voice29\":28, \"voice30\":29, \"voice31\":30, \"voice32\":31, \"voice33\":32,  \"voice34\":33}}\n",
        "data = data.replace(cleanup_nums)\n",
        "data.head()"
      ]
    },
    {
      "cell_type": "code",
      "execution_count": 41,
      "metadata": {
        "colab": {
          "base_uri": "https://localhost:8080/"
        },
        "id": "D9zCh2NC4GZ1",
        "outputId": "cd869984-88a0-4fdb-9ea3-0f58e5ff2047"
      },
      "outputs": [
        {
          "data": {
            "text/plain": [
              "array([ 0,  1,  2,  3,  4,  5,  6,  7,  8,  9, 10, 11, 12, 13, 14, 15, 16,\n",
              "       17, 18, 19, 20, 21, 22, 23, 24, 25, 26, 27, 28, 29, 30, 31, 32, 33])"
            ]
          },
          "execution_count": 41,
          "metadata": {},
          "output_type": "execute_result"
        }
      ],
      "source": [
        "data['label'].unique()"
      ]
    },
    {
      "cell_type": "markdown",
      "metadata": {
        "id": "fUfWZ3HhbFmD"
      },
      "source": [
        "The data was organized by speakers and this is no conductive to effective classification. Therefore the data order has been mixed up. "
      ]
    },
    {
      "cell_type": "code",
      "execution_count": 42,
      "metadata": {
        "colab": {
          "base_uri": "https://localhost:8080/",
          "height": 423
        },
        "id": "7Pz1QixRLY5u",
        "outputId": "21b5c960-062e-4034-9f95-4fbaedb988b1"
      },
      "outputs": [
        {
          "data": {
            "text/html": [
              "\n",
              "  <div id=\"df-16521803-f68e-4cb9-a1e7-a810cde8d5ff\">\n",
              "    <div class=\"colab-df-container\">\n",
              "      <div>\n",
              "<style scoped>\n",
              "    .dataframe tbody tr th:only-of-type {\n",
              "        vertical-align: middle;\n",
              "    }\n",
              "\n",
              "    .dataframe tbody tr th {\n",
              "        vertical-align: top;\n",
              "    }\n",
              "\n",
              "    .dataframe thead th {\n",
              "        text-align: right;\n",
              "    }\n",
              "</style>\n",
              "<table border=\"1\" class=\"dataframe\">\n",
              "  <thead>\n",
              "    <tr style=\"text-align: right;\">\n",
              "      <th></th>\n",
              "      <th>client_id</th>\n",
              "      <th>path</th>\n",
              "      <th>sentence</th>\n",
              "      <th>label</th>\n",
              "    </tr>\n",
              "  </thead>\n",
              "  <tbody>\n",
              "    <tr>\n",
              "      <th>0</th>\n",
              "      <td>voice7</td>\n",
              "      <td>common_voice_en_22125662.mp3</td>\n",
              "      <td>zero</td>\n",
              "      <td>6</td>\n",
              "    </tr>\n",
              "    <tr>\n",
              "      <th>1</th>\n",
              "      <td>voice34</td>\n",
              "      <td>common_voice_en_22046637.mp3</td>\n",
              "      <td>seven</td>\n",
              "      <td>33</td>\n",
              "    </tr>\n",
              "    <tr>\n",
              "      <th>2</th>\n",
              "      <td>voice23</td>\n",
              "      <td>common_voice_en_22207175.mp3</td>\n",
              "      <td>Hey</td>\n",
              "      <td>22</td>\n",
              "    </tr>\n",
              "    <tr>\n",
              "      <th>3</th>\n",
              "      <td>voice19</td>\n",
              "      <td>common_voice_en_22071426.mp3</td>\n",
              "      <td>five</td>\n",
              "      <td>18</td>\n",
              "    </tr>\n",
              "    <tr>\n",
              "      <th>4</th>\n",
              "      <td>voice13</td>\n",
              "      <td>common_voice_en_21925175.mp3</td>\n",
              "      <td>Firefox</td>\n",
              "      <td>12</td>\n",
              "    </tr>\n",
              "    <tr>\n",
              "      <th>...</th>\n",
              "      <td>...</td>\n",
              "      <td>...</td>\n",
              "      <td>...</td>\n",
              "      <td>...</td>\n",
              "    </tr>\n",
              "    <tr>\n",
              "      <th>471</th>\n",
              "      <td>voice22</td>\n",
              "      <td>common_voice_en_22044214.mp3</td>\n",
              "      <td>Firefox</td>\n",
              "      <td>21</td>\n",
              "    </tr>\n",
              "    <tr>\n",
              "      <th>472</th>\n",
              "      <td>voice20</td>\n",
              "      <td>common_voice_en_22159882.mp3</td>\n",
              "      <td>no</td>\n",
              "      <td>19</td>\n",
              "    </tr>\n",
              "    <tr>\n",
              "      <th>473</th>\n",
              "      <td>voice30</td>\n",
              "      <td>common_voice_en_22108997.mp3</td>\n",
              "      <td>one</td>\n",
              "      <td>29</td>\n",
              "    </tr>\n",
              "    <tr>\n",
              "      <th>474</th>\n",
              "      <td>voice28</td>\n",
              "      <td>common_voice_en_21917136.mp3</td>\n",
              "      <td>eight</td>\n",
              "      <td>27</td>\n",
              "    </tr>\n",
              "    <tr>\n",
              "      <th>475</th>\n",
              "      <td>voice11</td>\n",
              "      <td>common_voice_en_21906590.mp3</td>\n",
              "      <td>zero</td>\n",
              "      <td>10</td>\n",
              "    </tr>\n",
              "  </tbody>\n",
              "</table>\n",
              "<p>476 rows × 4 columns</p>\n",
              "</div>\n",
              "      <button class=\"colab-df-convert\" onclick=\"convertToInteractive('df-16521803-f68e-4cb9-a1e7-a810cde8d5ff')\"\n",
              "              title=\"Convert this dataframe to an interactive table.\"\n",
              "              style=\"display:none;\">\n",
              "        \n",
              "  <svg xmlns=\"http://www.w3.org/2000/svg\" height=\"24px\"viewBox=\"0 0 24 24\"\n",
              "       width=\"24px\">\n",
              "    <path d=\"M0 0h24v24H0V0z\" fill=\"none\"/>\n",
              "    <path d=\"M18.56 5.44l.94 2.06.94-2.06 2.06-.94-2.06-.94-.94-2.06-.94 2.06-2.06.94zm-11 1L8.5 8.5l.94-2.06 2.06-.94-2.06-.94L8.5 2.5l-.94 2.06-2.06.94zm10 10l.94 2.06.94-2.06 2.06-.94-2.06-.94-.94-2.06-.94 2.06-2.06.94z\"/><path d=\"M17.41 7.96l-1.37-1.37c-.4-.4-.92-.59-1.43-.59-.52 0-1.04.2-1.43.59L10.3 9.45l-7.72 7.72c-.78.78-.78 2.05 0 2.83L4 21.41c.39.39.9.59 1.41.59.51 0 1.02-.2 1.41-.59l7.78-7.78 2.81-2.81c.8-.78.8-2.07 0-2.86zM5.41 20L4 18.59l7.72-7.72 1.47 1.35L5.41 20z\"/>\n",
              "  </svg>\n",
              "      </button>\n",
              "      \n",
              "  <style>\n",
              "    .colab-df-container {\n",
              "      display:flex;\n",
              "      flex-wrap:wrap;\n",
              "      gap: 12px;\n",
              "    }\n",
              "\n",
              "    .colab-df-convert {\n",
              "      background-color: #E8F0FE;\n",
              "      border: none;\n",
              "      border-radius: 50%;\n",
              "      cursor: pointer;\n",
              "      display: none;\n",
              "      fill: #1967D2;\n",
              "      height: 32px;\n",
              "      padding: 0 0 0 0;\n",
              "      width: 32px;\n",
              "    }\n",
              "\n",
              "    .colab-df-convert:hover {\n",
              "      background-color: #E2EBFA;\n",
              "      box-shadow: 0px 1px 2px rgba(60, 64, 67, 0.3), 0px 1px 3px 1px rgba(60, 64, 67, 0.15);\n",
              "      fill: #174EA6;\n",
              "    }\n",
              "\n",
              "    [theme=dark] .colab-df-convert {\n",
              "      background-color: #3B4455;\n",
              "      fill: #D2E3FC;\n",
              "    }\n",
              "\n",
              "    [theme=dark] .colab-df-convert:hover {\n",
              "      background-color: #434B5C;\n",
              "      box-shadow: 0px 1px 3px 1px rgba(0, 0, 0, 0.15);\n",
              "      filter: drop-shadow(0px 1px 2px rgba(0, 0, 0, 0.3));\n",
              "      fill: #FFFFFF;\n",
              "    }\n",
              "  </style>\n",
              "\n",
              "      <script>\n",
              "        const buttonEl =\n",
              "          document.querySelector('#df-16521803-f68e-4cb9-a1e7-a810cde8d5ff button.colab-df-convert');\n",
              "        buttonEl.style.display =\n",
              "          google.colab.kernel.accessAllowed ? 'block' : 'none';\n",
              "\n",
              "        async function convertToInteractive(key) {\n",
              "          const element = document.querySelector('#df-16521803-f68e-4cb9-a1e7-a810cde8d5ff');\n",
              "          const dataTable =\n",
              "            await google.colab.kernel.invokeFunction('convertToInteractive',\n",
              "                                                     [key], {});\n",
              "          if (!dataTable) return;\n",
              "\n",
              "          const docLinkHtml = 'Like what you see? Visit the ' +\n",
              "            '<a target=\"_blank\" href=https://colab.research.google.com/notebooks/data_table.ipynb>data table notebook</a>'\n",
              "            + ' to learn more about interactive tables.';\n",
              "          element.innerHTML = '';\n",
              "          dataTable['output_type'] = 'display_data';\n",
              "          await google.colab.output.renderOutput(dataTable, element);\n",
              "          const docLink = document.createElement('div');\n",
              "          docLink.innerHTML = docLinkHtml;\n",
              "          element.appendChild(docLink);\n",
              "        }\n",
              "      </script>\n",
              "    </div>\n",
              "  </div>\n",
              "  "
            ],
            "text/plain": [
              "    client_id                          path sentence  label\n",
              "0      voice7  common_voice_en_22125662.mp3     zero      6\n",
              "1     voice34  common_voice_en_22046637.mp3    seven     33\n",
              "2     voice23  common_voice_en_22207175.mp3      Hey     22\n",
              "3     voice19  common_voice_en_22071426.mp3     five     18\n",
              "4     voice13  common_voice_en_21925175.mp3  Firefox     12\n",
              "..        ...                           ...      ...    ...\n",
              "471   voice22  common_voice_en_22044214.mp3  Firefox     21\n",
              "472   voice20  common_voice_en_22159882.mp3       no     19\n",
              "473   voice30  common_voice_en_22108997.mp3      one     29\n",
              "474   voice28  common_voice_en_21917136.mp3    eight     27\n",
              "475   voice11  common_voice_en_21906590.mp3     zero     10\n",
              "\n",
              "[476 rows x 4 columns]"
            ]
          },
          "execution_count": 42,
          "metadata": {},
          "output_type": "execute_result"
        }
      ],
      "source": [
        "data = data.sample(frac=1).reset_index(drop=True)\n",
        "data"
      ]
    },
    {
      "cell_type": "markdown",
      "metadata": {
        "id": "daGbg82abFmE"
      },
      "source": [
        "Finally, I saved the data frame as a file to have easy access to the selected recordings labels."
      ]
    },
    {
      "cell_type": "code",
      "execution_count": 43,
      "metadata": {
        "id": "tBsIJcKQLkkz"
      },
      "outputs": [],
      "source": [
        "!rm -f /content/drive/MyDrive/en/data.csv\n",
        "data.to_csv('/content/drive/MyDrive/SpeakerRecognition/data.csv', index=False)"
      ]
    }
  ],
  "metadata": {
    "accelerator": "TPU",
    "colab": {
      "collapsed_sections": [
        "As5VKYjK8rMH",
        "4-qRegCEy_Yr",
        "bflRaz5d2d-3",
        "idHOIb5z8xA6"
      ],
      "name": "data_selection.ipynb",
      "provenance": []
    },
    "kernelspec": {
      "display_name": "Python 3",
      "name": "python3"
    },
    "language_info": {
      "name": "python"
    }
  },
  "nbformat": 4,
  "nbformat_minor": 0
}
