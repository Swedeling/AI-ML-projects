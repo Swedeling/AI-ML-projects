{
 "cells": [
  {
   "cell_type": "markdown",
   "metadata": {
    "id": "4SVaGt51Kn1Y",
    "pycharm": {
     "name": "#%% md\n"
    }
   },
   "source": [
    "## Necessary libraries"
   ]
  },
  {
   "cell_type": "code",
   "execution_count": 57,
   "metadata": {
    "id": "yiTC5lljJol1",
    "pycharm": {
     "name": "#%%\n"
    }
   },
   "outputs": [],
   "source": [
    "import matplotlib.pyplot as plt\n",
    "import numpy as np\n",
    "import os\n",
    "import pandas as pd\n",
    "import seaborn as sns\n",
    "\n",
    "from sklearn.metrics import accuracy_score\n",
    "from sklearn.model_selection import train_test_split\n",
    "from sklearn.metrics import confusion_matrix, classification_report\n",
    "\n",
    "import random\n",
    "import tensorflow as tf"
   ]
  },
  {
   "cell_type": "code",
   "execution_count": 58,
   "metadata": {
    "colab": {
     "base_uri": "https://localhost:8080/"
    },
    "id": "_nda0c5aJvKo",
    "outputId": "c9e11625-2b7a-481d-d2aa-0bbe9e8656e4",
    "pycharm": {
     "name": "#%%\n"
    }
   },
   "outputs": [
    {
     "name": "stdout",
     "output_type": "stream",
     "text": [
      "Drive already mounted at /content/drive; to attempt to forcibly remount, call drive.mount(\"/content/drive\", force_remount=True).\n"
     ]
    }
   ],
   "source": [
    "from google.colab import drive\n",
    "drive.mount('/content/drive')"
   ]
  },
  {
   "cell_type": "markdown",
   "metadata": {
    "id": "JQJDdm1SGVRC",
    "pycharm": {
     "name": "#%% md\n"
    }
   },
   "source": [
    "## Loading Data"
   ]
  },
  {
   "cell_type": "code",
   "execution_count": 59,
   "metadata": {
    "id": "xKPcksd9JvMQ",
    "pycharm": {
     "name": "#%%\n"
    }
   },
   "outputs": [],
   "source": [
    "img_path='/content/drive/MyDrive/Data'\n",
    "\n",
    "covid_imgs = os.listdir('/content/drive/MyDrive/Data/COVID')\n",
    "normal_imgs = os.listdir('/content/drive/MyDrive/Data/Normal')\n",
    "\n",
    "covid_paths = [img_path + \"/COVID/\" + el for el in covid_imgs]\n",
    "normal_paths = [img_path + \"/Normal/\" + el for el in normal_imgs]"
   ]
  },
  {
   "cell_type": "code",
   "execution_count": 60,
   "metadata": {
    "colab": {
     "base_uri": "https://localhost:8080/",
     "height": 336
    },
    "id": "namUU5k2JyUk",
    "outputId": "a93e2cad-4f8b-4154-b57d-06bb286e0393",
    "pycharm": {
     "name": "#%%\n"
    }
   },
   "outputs": [
    {
     "name": "stderr",
     "output_type": "stream",
     "text": [
      "/usr/local/lib/python3.7/dist-packages/seaborn/_decorators.py:43: FutureWarning: Pass the following variable as a keyword arg: x. From version 0.12, the only valid positional argument will be `data`, and passing other arguments without an explicit keyword will result in an error or misinterpretation.\n",
      "  FutureWarning\n"
     ]
    },
    {
     "data": {
      "image/png": "[encoded data removed]",
      "text/plain": [
       "<Figure size 432x288 with 1 Axes>"
      ]
     },
     "metadata": {
      "needs_background": "light"
     },
     "output_type": "display_data"
    }
   ],
   "source": [
    "list_files=[]\n",
    "for dir in os.listdir(img_path):\n",
    "  directory = os.path.join(img_path,dir)\n",
    "  \n",
    "  if os.path.isdir(directory):\n",
    "    for img in os.listdir(directory):\n",
    "      list_files.append([os.path.join(dir,img),dir])\n",
    "\n",
    "df = pd.DataFrame(list_files, columns=['id','label'])\n",
    "df.describe()\n",
    "list_files = []\n",
    "\n",
    "for dir in os.listdir(img_path):\n",
    "  directory = os.path.join(img_path,dir)\n",
    "\n",
    "sns.countplot(df.label)\n",
    "plt.show()"
   ]
  },
  {
   "cell_type": "code",
   "execution_count": 61,
   "metadata": {
    "id": "icEbdlSrJ0dk",
    "pycharm": {
     "name": "#%%\n"
    }
   },
   "outputs": [],
   "source": [
    "CLASS_NAMES= ['COVID', 'Normal']\n",
    "IMG_SIZE=224\n",
    "training_data=[]\n",
    "\n",
    "def create_training_data():\n",
    "  for class_name in CLASS_NAMES:\n",
    "    class_num=CLASS_NAMES.index(class_name)\n",
    "    path=os.path.join(img_path,class_name)\n",
    "    for img in os.listdir(path):\n",
    "      img_array=plt.imread(os.path.join(path,img))\n",
    "      new_array=np.resize(img_array, (IMG_SIZE,IMG_SIZE))\n",
    "      training_data.append([new_array,class_num])\n",
    "\n",
    "create_training_data()\n",
    "\n",
    "random.shuffle(training_data)\n",
    "\n",
    "X=[]\n",
    "y=[]\n",
    "\n",
    "for features, label in training_data:\n",
    "  X.append(features)\n",
    "  y.append(label)\n",
    "\n",
    "X=np.array(X).reshape(-1,IMG_SIZE,IMG_SIZE,1)\n",
    "y=np.array(y)\n",
    "\n",
    "X_train, X_rest,y_train, y_rest= train_test_split(X,y,test_size = 0.3)\n",
    "X_test, X_valid,y_test, y_valid= train_test_split(X_rest, y_rest, test_size=0.33)"
   ]
  },
  {
   "cell_type": "markdown",
   "metadata": {
    "pycharm": {
     "name": "#%% md\n"
    }
   },
   "source": [
    "## Network Model"
   ]
  },
  {
   "cell_type": "code",
   "execution_count": 64,
   "metadata": {
    "colab": {
     "base_uri": "https://localhost:8080/"
    },
    "id": "kX-8pKspMJHz",
    "outputId": "362ae14d-2b7a-420b-ba2e-286115ab6012",
    "pycharm": {
     "name": "#%%\n"
    }
   },
   "outputs": [
    {
     "data": {
      "text/plain": [
       "<KerasTensor: shape=(None, 224, 224, 1) dtype=float32 (created by layer 'input_3')>"
      ]
     },
     "execution_count": 64,
     "metadata": {},
     "output_type": "execute_result"
    }
   ],
   "source": [
    "i=tf.keras.layers.Input(shape=[224,224,1])\n",
    "i"
   ]
  },
  {
   "cell_type": "code",
   "execution_count": 65,
   "metadata": {
    "id": "xWKWkLDdMOlb",
    "pycharm": {
     "name": "#%%\n"
    }
   },
   "outputs": [],
   "source": [
    "x = tf.keras.layers.Conv2D(32,(3,3), activation = \"elu\", padding=\"same\")(i)\n",
    "x=tf.keras.layers.MaxPool2D(pool_size=(2,2))(x)\n",
    "x = tf.keras.layers.Conv2D(64,(3,3), activation=\"relu\")(x)\n",
    "x = tf.keras.layers.MaxPool2D(pool_size=(2,2))(x)\n",
    "x = tf.keras.layers.Conv2D(128,(3,3), activation = \"relu\",strides=(1,1), padding=\"valid\")(x)\n",
    "x=tf.keras.layers.MaxPool2D(pool_size=(2, 2))(x)\n",
    "x = tf.keras.layers.Conv2D(128,(3,3), activation = \"relu\",strides=(1,1), padding=\"valid\")(x)\n",
    "x=tf.keras.layers.MaxPool2D(pool_size=(2, 2), strides=(1,1))(x)\n",
    "x = tf.keras.layers.Conv2D(128,(3,3), activation = \"relu\",strides=(1,1), padding=\"valid\")(x)\n",
    "x=tf.keras.layers.MaxPool2D(pool_size=(2, 2), strides=(2,2))(x)\n",
    "x=tf.keras.layers.Dropout(0.25)(x)\n",
    "\n",
    "x = tf.keras.layers.Flatten()(x)\n",
    "x = tf.keras.layers.Dense(64, activation=\"relu\")(x)\n",
    "x=tf.keras.layers.Dropout(0.2)(x)\n",
    "x = tf.keras.layers.Dense(2, activation=\"softmax\")(x)"
   ]
  },
  {
   "cell_type": "code",
   "execution_count": 66,
   "metadata": {
    "id": "oF-IPwsANuEk",
    "pycharm": {
     "name": "#%%\n"
    }
   },
   "outputs": [],
   "source": [
    "model  = tf.keras.Model(i,x)"
   ]
  },
  {
   "cell_type": "code",
   "execution_count": 67,
   "metadata": {
    "id": "cVST76K6KnC9",
    "pycharm": {
     "name": "#%%\n"
    }
   },
   "outputs": [],
   "source": [
    "model.compile(\n",
    "    loss=tf.keras.losses.SparseCategoricalCrossentropy(),\n",
    "    optimizer = tf.keras.optimizers.Adam(),\n",
    "    metrics = [\"accuracy\"]\n",
    ")"
   ]
  },
  {
   "cell_type": "code",
   "execution_count": 68,
   "metadata": {
    "colab": {
     "base_uri": "https://localhost:8080/"
    },
    "id": "rG6GrRHVKnb8",
    "outputId": "12648309-eb4c-4b60-c79f-c9cd3afd0909",
    "pycharm": {
     "name": "#%%\n"
    }
   },
   "outputs": [
    {
     "name": "stdout",
     "output_type": "stream",
     "text": [
      "Model: \"model_2\"\n",
      "_________________________________________________________________\n",
      " Layer (type)                Output Shape              Param #   \n",
      "=================================================================\n",
      " input_3 (InputLayer)        [(None, 224, 224, 1)]     0         \n",
      "                                                                 \n",
      " conv2d_10 (Conv2D)          (None, 224, 224, 32)      320       \n",
      "                                                                 \n",
      " max_pooling2d_10 (MaxPoolin  (None, 112, 112, 32)     0         \n",
      " g2D)                                                            \n",
      "                                                                 \n",
      " conv2d_11 (Conv2D)          (None, 110, 110, 64)      18496     \n",
      "                                                                 \n",
      " max_pooling2d_11 (MaxPoolin  (None, 55, 55, 64)       0         \n",
      " g2D)                                                            \n",
      "                                                                 \n",
      " conv2d_12 (Conv2D)          (None, 53, 53, 128)       73856     \n",
      "                                                                 \n",
      " max_pooling2d_12 (MaxPoolin  (None, 26, 26, 128)      0         \n",
      " g2D)                                                            \n",
      "                                                                 \n",
      " conv2d_13 (Conv2D)          (None, 24, 24, 128)       147584    \n",
      "                                                                 \n",
      " max_pooling2d_13 (MaxPoolin  (None, 23, 23, 128)      0         \n",
      " g2D)                                                            \n",
      "                                                                 \n",
      " conv2d_14 (Conv2D)          (None, 21, 21, 128)       147584    \n",
      "                                                                 \n",
      " max_pooling2d_14 (MaxPoolin  (None, 10, 10, 128)      0         \n",
      " g2D)                                                            \n",
      "                                                                 \n",
      " dropout_4 (Dropout)         (None, 10, 10, 128)       0         \n",
      "                                                                 \n",
      " flatten_2 (Flatten)         (None, 12800)             0         \n",
      "                                                                 \n",
      " dense_4 (Dense)             (None, 64)                819264    \n",
      "                                                                 \n",
      " dropout_5 (Dropout)         (None, 64)                0         \n",
      "                                                                 \n",
      " dense_5 (Dense)             (None, 2)                 130       \n",
      "                                                                 \n",
      "=================================================================\n",
      "Total params: 1,207,234\n",
      "Trainable params: 1,207,234\n",
      "Non-trainable params: 0\n",
      "_________________________________________________________________\n",
      "None\n"
     ]
    }
   ],
   "source": [
    "print(model.summary())"
   ]
  },
  {
   "cell_type": "code",
   "execution_count": 70,
   "metadata": {
    "colab": {
     "base_uri": "https://localhost:8080/"
    },
    "id": "NgfVLgBsNMeM",
    "outputId": "512882b8-d209-4c99-f4bc-9e313acd0991",
    "pycharm": {
     "name": "#%%\n"
    }
   },
   "outputs": [
    {
     "name": "stdout",
     "output_type": "stream",
     "text": [
      "(140, 224, 224, 1)\n",
      "(140,)\n",
      "(20, 224, 224, 1)\n",
      "(20,)\n"
     ]
    }
   ],
   "source": [
    "print(X_train.shape)\n",
    "print(y_train.shape)\n",
    "print(X_valid.shape)\n",
    "print(y_valid.shape)"
   ]
  },
  {
   "cell_type": "code",
   "execution_count": 71,
   "metadata": {
    "colab": {
     "base_uri": "https://localhost:8080/"
    },
    "id": "xBrmyixmNYiE",
    "outputId": "c27aa3b3-9720-4cc6-bce7-f8f48a0d36fb",
    "pycharm": {
     "name": "#%%\n"
    }
   },
   "outputs": [
    {
     "name": "stdout",
     "output_type": "stream",
     "text": [
      "(140, 1)\n",
      "int32\n"
     ]
    }
   ],
   "source": [
    "y_train = np.array(y_train).astype(np.int32)[..., None]\n",
    "print(y_train.shape)\n",
    "print(y_train.dtype)"
   ]
  },
  {
   "cell_type": "code",
   "execution_count": 72,
   "metadata": {
    "colab": {
     "base_uri": "https://localhost:8080/"
    },
    "id": "MQEXr-o6Nbyd",
    "outputId": "501656f9-9e74-4a0a-89ba-1b277bbec12b",
    "pycharm": {
     "name": "#%%\n"
    }
   },
   "outputs": [
    {
     "name": "stdout",
     "output_type": "stream",
     "text": [
      "(20, 1)\n",
      "int32\n"
     ]
    }
   ],
   "source": [
    "y_valid = np.array(y_valid).astype(np.int32)[..., None]\n",
    "print(y_valid.shape)\n",
    "print(y_valid.dtype)"
   ]
  },
  {
   "cell_type": "markdown",
   "metadata": {
    "pycharm": {
     "name": "#%% md\n"
    }
   },
   "source": [
    "## Network learning process"
   ]
  },
  {
   "cell_type": "code",
   "execution_count": null,
   "metadata": {
    "colab": {
     "base_uri": "https://localhost:8080/"
    },
    "id": "IRJSHLubKpVO",
    "outputId": "c37b1805-5fc0-4690-a154-9698f6cc7f77",
    "pycharm": {
     "name": "#%%\n",
     "is_executing": true
    }
   },
   "outputs": [],
   "source": [
    "history = model.fit(X_train, y_train, validation_data=(X_valid,y_valid), batch_size=3, epochs=50, steps_per_epoch=100)"
   ]
  },
  {
   "cell_type": "code",
   "execution_count": null,
   "metadata": {
    "colab": {
     "base_uri": "https://localhost:8080/"
    },
    "id": "PQd0zsK5Ohm0",
    "outputId": "101f0ffe-9794-4291-8adb-254f580d6d99",
    "pycharm": {
     "name": "#%%\n",
     "is_executing": true
    }
   },
   "outputs": [],
   "source": [
    "test_loss,test_acc=model.evaluate(X_test,y_test)"
   ]
  },
  {
   "cell_type": "markdown",
   "metadata": {
    "pycharm": {
     "name": "#%% md\n"
    }
   },
   "source": [
    "## Results"
   ]
  },
  {
   "cell_type": "code",
   "execution_count": 78,
   "metadata": {
    "colab": {
     "base_uri": "https://localhost:8080/"
    },
    "id": "vdoGcW57On8V",
    "outputId": "9a68456e-b321-4362-e822-8147a141f70f",
    "pycharm": {
     "name": "#%%\n"
    }
   },
   "outputs": [
    {
     "name": "stdout",
     "output_type": "stream",
     "text": [
      "              precision    recall  f1-score   support\n",
      "\n",
      "           0      0.944     0.850     0.895        20\n",
      "           1      0.864     0.950     0.905        20\n",
      "\n",
      "    accuracy                          0.900        40\n",
      "   macro avg      0.904     0.900     0.900        40\n",
      "weighted avg      0.904     0.900     0.900        40\n",
      "\n"
     ]
    }
   ],
   "source": [
    "prediction = model.predict(X_test, batch_size=40)\n",
    "prediction = np.argmax(prediction, axis=1)\n",
    "print(classification_report(y_test, prediction, digits = 3))"
   ]
  },
  {
   "cell_type": "code",
   "execution_count": 79,
   "metadata": {
    "colab": {
     "base_uri": "https://localhost:8080/"
    },
    "id": "4G3hUielOrNy",
    "outputId": "fe6151b4-5bb7-4788-b2b4-c48c8d3d71c2",
    "pycharm": {
     "name": "#%%\n"
    }
   },
   "outputs": [
    {
     "name": "stdout",
     "output_type": "stream",
     "text": [
      "[[17  3]\n",
      " [ 1 19]]\n"
     ]
    }
   ],
   "source": [
    "from sklearn.metrics import confusion_matrix\n",
    "cm = confusion_matrix(y_test, prediction)\n",
    "print(cm)"
   ]
  },
  {
   "cell_type": "code",
   "execution_count": 80,
   "metadata": {
    "colab": {
     "base_uri": "https://localhost:8080/",
     "height": 328
    },
    "id": "1AcvxkRCOsEL",
    "outputId": "cd46ccbd-3a4a-4b90-a276-0979d1a79f25",
    "pycharm": {
     "name": "#%%\n"
    }
   },
   "outputs": [
    {
     "data": {
      "text/plain": [
       "Text(0.5, 15.0, 'Predicted label')"
      ]
     },
     "execution_count": 80,
     "metadata": {},
     "output_type": "execute_result"
    },
    {
     "data": {
      "image/png": "[encoded data removed]",
      "text/plain": [
       "<Figure size 720x288 with 2 Axes>"
      ]
     },
     "metadata": {
      "needs_background": "light"
     },
     "output_type": "display_data"
    }
   ],
   "source": [
    "df_cm = pd.DataFrame(cm, index = [i for i in range(0,2)], columns = [i for i in range(0,2)])\n",
    "plt.figure(figsize=(10,4))\n",
    "sns.heatmap(df_cm, annot=True)\n",
    "plt.title(' Our Model  \\nAccuracy:{0:.3f}'.format(accuracy_score(y_test, prediction)))\n",
    "plt.ylabel('True label')\n",
    "plt.xlabel('Predicted label')"
   ]
  }
 ],
 "metadata": {
  "accelerator": "GPU",
  "colab": {
   "collapsed_sections": [],
   "name": " Gosia  sieć duży zbiór (acc=94,5%).ipynb",
   "provenance": []
  },
  "kernelspec": {
   "display_name": "Python 3",
   "name": "python3"
  },
  "language_info": {
   "name": "python"
  }
 },
 "nbformat": 4,
 "nbformat_minor": 0
}